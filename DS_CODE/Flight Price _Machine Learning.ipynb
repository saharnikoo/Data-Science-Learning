{
 "cells": [
  {
   "cell_type": "code",
   "execution_count": null,
   "id": "ef94f429",
   "metadata": {},
   "outputs": [],
   "source": [
    "# https://www.kaggle.com/datasets/shubhambathwal/flight-price-prediction"
   ]
  },
  {
   "cell_type": "code",
   "execution_count": 1,
   "id": "336bac42",
   "metadata": {},
   "outputs": [],
   "source": [
    "import pandas as pd\n",
    "from scipy import stats\n",
    "import numpy as np\n",
    "import zipfile as zipf\n",
    "import requests\n",
    "import io\n",
    "import scipy\n",
    "import matplotlib\n",
    "import matplotlib.pyplot as plt\n",
    "import seaborn as sns\n",
    "%matplotlib inline\n",
    "import datetime\n",
    "from sklearn.compose import ColumnTransformer\n",
    "from sklearn.pipeline import Pipeline\n",
    "from sklearn.preprocessing import OneHotEncoder\n",
    "from sklearn.preprocessing import StandardScaler\n",
    "from sklearn.preprocessing import MinMaxScaler\n",
    "from sklearn.impute import SimpleImputer\n",
    "from sklearn.preprocessing import FunctionTransformer\n",
    "from sklearn.model_selection import train_test_split\n",
    "from sklearn import preprocessing\n",
    "from sklearn import tree\n",
    "from sklearn.model_selection import cross_val_score\n",
    "from sklearn.decomposition import PCA\n",
    "from sklearn.manifold import TSNE\n",
    "from sklearn.manifold import LocallyLinearEmbedding\n",
    "from sklearn.decomposition import KernelPCA\n",
    "from sklearn.metrics import mean_squared_error, r2_score\n",
    "import plotly.express as px\n",
    "import plotly.graph_objects as go\n",
    "\n",
    "import warnings\n",
    "warnings.filterwarnings('ignore') "
   ]
  },
  {
   "cell_type": "code",
   "execution_count": 2,
   "id": "339efcf1",
   "metadata": {},
   "outputs": [],
   "source": [
    "from sklearn import ensemble\n",
    "from sklearn.naive_bayes import GaussianNB\n",
    "from sklearn.linear_model import LinearRegression\n",
    "from sklearn.linear_model import SGDRegressor\n",
    "from sklearn.linear_model import Ridge\n",
    "from sklearn.linear_model import Lasso\n",
    "from sklearn.linear_model import ElasticNet\n",
    "from sklearn.neighbors import KNeighborsRegressor\n",
    "from sklearn.tree import DecisionTreeRegressor\n",
    "from sklearn.ensemble import GradientBoostingRegressor\n",
    "from sklearn.ensemble import ExtraTreesRegressor\n",
    "from sklearn.ensemble import RandomForestRegressor\n",
    "\n",
    "from sklearn.svm import LinearSVR\n",
    "from xgboost.sklearn import XGBRegressor\n",
    "from sklearn.ensemble import BaggingRegressor\n",
    "from sklearn.ensemble import AdaBoostRegressor\n",
    "from sklearn.ensemble import VotingRegressor"
   ]
  },
  {
   "cell_type": "code",
   "execution_count": 3,
   "id": "898929d2",
   "metadata": {},
   "outputs": [
    {
     "data": {
      "text/html": [
       "<div>\n",
       "<style scoped>\n",
       "    .dataframe tbody tr th:only-of-type {\n",
       "        vertical-align: middle;\n",
       "    }\n",
       "\n",
       "    .dataframe tbody tr th {\n",
       "        vertical-align: top;\n",
       "    }\n",
       "\n",
       "    .dataframe thead th {\n",
       "        text-align: right;\n",
       "    }\n",
       "</style>\n",
       "<table border=\"1\" class=\"dataframe\">\n",
       "  <thead>\n",
       "    <tr style=\"text-align: right;\">\n",
       "      <th></th>\n",
       "      <th>Unnamed: 0</th>\n",
       "      <th>airline</th>\n",
       "      <th>flight</th>\n",
       "      <th>source_city</th>\n",
       "      <th>departure_time</th>\n",
       "      <th>stops</th>\n",
       "      <th>arrival_time</th>\n",
       "      <th>destination_city</th>\n",
       "      <th>class</th>\n",
       "      <th>duration</th>\n",
       "      <th>days_left</th>\n",
       "      <th>price</th>\n",
       "    </tr>\n",
       "  </thead>\n",
       "  <tbody>\n",
       "    <tr>\n",
       "      <th>0</th>\n",
       "      <td>0</td>\n",
       "      <td>SpiceJet</td>\n",
       "      <td>SG-8709</td>\n",
       "      <td>Delhi</td>\n",
       "      <td>Evening</td>\n",
       "      <td>zero</td>\n",
       "      <td>Night</td>\n",
       "      <td>Mumbai</td>\n",
       "      <td>Economy</td>\n",
       "      <td>2.17</td>\n",
       "      <td>1</td>\n",
       "      <td>5953</td>\n",
       "    </tr>\n",
       "    <tr>\n",
       "      <th>1</th>\n",
       "      <td>1</td>\n",
       "      <td>SpiceJet</td>\n",
       "      <td>SG-8157</td>\n",
       "      <td>Delhi</td>\n",
       "      <td>Early_Morning</td>\n",
       "      <td>zero</td>\n",
       "      <td>Morning</td>\n",
       "      <td>Mumbai</td>\n",
       "      <td>Economy</td>\n",
       "      <td>2.33</td>\n",
       "      <td>1</td>\n",
       "      <td>5953</td>\n",
       "    </tr>\n",
       "    <tr>\n",
       "      <th>2</th>\n",
       "      <td>2</td>\n",
       "      <td>AirAsia</td>\n",
       "      <td>I5-764</td>\n",
       "      <td>Delhi</td>\n",
       "      <td>Early_Morning</td>\n",
       "      <td>zero</td>\n",
       "      <td>Early_Morning</td>\n",
       "      <td>Mumbai</td>\n",
       "      <td>Economy</td>\n",
       "      <td>2.17</td>\n",
       "      <td>1</td>\n",
       "      <td>5956</td>\n",
       "    </tr>\n",
       "    <tr>\n",
       "      <th>3</th>\n",
       "      <td>3</td>\n",
       "      <td>Vistara</td>\n",
       "      <td>UK-995</td>\n",
       "      <td>Delhi</td>\n",
       "      <td>Morning</td>\n",
       "      <td>zero</td>\n",
       "      <td>Afternoon</td>\n",
       "      <td>Mumbai</td>\n",
       "      <td>Economy</td>\n",
       "      <td>2.25</td>\n",
       "      <td>1</td>\n",
       "      <td>5955</td>\n",
       "    </tr>\n",
       "    <tr>\n",
       "      <th>4</th>\n",
       "      <td>4</td>\n",
       "      <td>Vistara</td>\n",
       "      <td>UK-963</td>\n",
       "      <td>Delhi</td>\n",
       "      <td>Morning</td>\n",
       "      <td>zero</td>\n",
       "      <td>Morning</td>\n",
       "      <td>Mumbai</td>\n",
       "      <td>Economy</td>\n",
       "      <td>2.33</td>\n",
       "      <td>1</td>\n",
       "      <td>5955</td>\n",
       "    </tr>\n",
       "  </tbody>\n",
       "</table>\n",
       "</div>"
      ],
      "text/plain": [
       "   Unnamed: 0   airline   flight source_city departure_time stops  \\\n",
       "0           0  SpiceJet  SG-8709       Delhi        Evening  zero   \n",
       "1           1  SpiceJet  SG-8157       Delhi  Early_Morning  zero   \n",
       "2           2   AirAsia   I5-764       Delhi  Early_Morning  zero   \n",
       "3           3   Vistara   UK-995       Delhi        Morning  zero   \n",
       "4           4   Vistara   UK-963       Delhi        Morning  zero   \n",
       "\n",
       "    arrival_time destination_city    class  duration  days_left  price  \n",
       "0          Night           Mumbai  Economy      2.17          1   5953  \n",
       "1        Morning           Mumbai  Economy      2.33          1   5953  \n",
       "2  Early_Morning           Mumbai  Economy      2.17          1   5956  \n",
       "3      Afternoon           Mumbai  Economy      2.25          1   5955  \n",
       "4        Morning           Mumbai  Economy      2.33          1   5955  "
      ]
     },
     "execution_count": 3,
     "metadata": {},
     "output_type": "execute_result"
    }
   ],
   "source": [
    "df = pd.read_csv('Clean_Dataset.csv', sep=',', na_values='\\xa0' )\n",
    "df.head()"
   ]
  },
  {
   "cell_type": "code",
   "execution_count": 4,
   "id": "412fd9f1",
   "metadata": {},
   "outputs": [
    {
     "name": "stdout",
     "output_type": "stream",
     "text": [
      "<class 'pandas.core.frame.DataFrame'>\n",
      "RangeIndex: 300153 entries, 0 to 300152\n",
      "Data columns (total 12 columns):\n",
      " #   Column            Non-Null Count   Dtype  \n",
      "---  ------            --------------   -----  \n",
      " 0   Unnamed: 0        300153 non-null  int64  \n",
      " 1   airline           300153 non-null  object \n",
      " 2   flight            300153 non-null  object \n",
      " 3   source_city       300153 non-null  object \n",
      " 4   departure_time    300153 non-null  object \n",
      " 5   stops             300153 non-null  object \n",
      " 6   arrival_time      300153 non-null  object \n",
      " 7   destination_city  300153 non-null  object \n",
      " 8   class             300153 non-null  object \n",
      " 9   duration          300153 non-null  float64\n",
      " 10  days_left         300153 non-null  int64  \n",
      " 11  price             300153 non-null  int64  \n",
      "dtypes: float64(1), int64(3), object(8)\n",
      "memory usage: 27.5+ MB\n"
     ]
    }
   ],
   "source": [
    "df.info()"
   ]
  },
  {
   "cell_type": "markdown",
   "id": "ae58a4b7",
   "metadata": {},
   "source": [
    "**Changing duration to mins** \n",
    "\n",
    "The duration column gives the number of hours it takes for the flight to reach the destination city, but this value in the dataset is given at two decimal places. It is more intutive to understand this value if we convert it to minutes. For eg: 130 minutes is more intutive to comprehend than 2.17 hours. Hence, we are coverting the duration column into mins."
   ]
  },
  {
   "cell_type": "code",
   "execution_count": 5,
   "id": "46dad438",
   "metadata": {},
   "outputs": [],
   "source": [
    "df['dur_mins'] = (df['duration']*60).round().astype(int)"
   ]
  },
  {
   "cell_type": "code",
   "execution_count": 6,
   "id": "71f03247",
   "metadata": {},
   "outputs": [],
   "source": [
    "# Cleaning the unnecessary variables:\n",
    "\n",
    "df=df.drop(['Unnamed: 0','flight','duration'],  axis=1)"
   ]
  },
  {
   "cell_type": "code",
   "execution_count": 7,
   "id": "31066870",
   "metadata": {},
   "outputs": [
    {
     "data": {
      "text/html": [
       "<div>\n",
       "<style scoped>\n",
       "    .dataframe tbody tr th:only-of-type {\n",
       "        vertical-align: middle;\n",
       "    }\n",
       "\n",
       "    .dataframe tbody tr th {\n",
       "        vertical-align: top;\n",
       "    }\n",
       "\n",
       "    .dataframe thead th {\n",
       "        text-align: right;\n",
       "    }\n",
       "</style>\n",
       "<table border=\"1\" class=\"dataframe\">\n",
       "  <thead>\n",
       "    <tr style=\"text-align: right;\">\n",
       "      <th></th>\n",
       "      <th>airline</th>\n",
       "      <th>source_city</th>\n",
       "      <th>departure_time</th>\n",
       "      <th>stops</th>\n",
       "      <th>arrival_time</th>\n",
       "      <th>destination_city</th>\n",
       "      <th>class</th>\n",
       "      <th>days_left</th>\n",
       "      <th>price</th>\n",
       "      <th>dur_mins</th>\n",
       "    </tr>\n",
       "  </thead>\n",
       "  <tbody>\n",
       "    <tr>\n",
       "      <th>0</th>\n",
       "      <td>SpiceJet</td>\n",
       "      <td>Delhi</td>\n",
       "      <td>Evening</td>\n",
       "      <td>zero</td>\n",
       "      <td>Night</td>\n",
       "      <td>Mumbai</td>\n",
       "      <td>Economy</td>\n",
       "      <td>1</td>\n",
       "      <td>5953</td>\n",
       "      <td>130</td>\n",
       "    </tr>\n",
       "    <tr>\n",
       "      <th>1</th>\n",
       "      <td>SpiceJet</td>\n",
       "      <td>Delhi</td>\n",
       "      <td>Early_Morning</td>\n",
       "      <td>zero</td>\n",
       "      <td>Morning</td>\n",
       "      <td>Mumbai</td>\n",
       "      <td>Economy</td>\n",
       "      <td>1</td>\n",
       "      <td>5953</td>\n",
       "      <td>140</td>\n",
       "    </tr>\n",
       "    <tr>\n",
       "      <th>2</th>\n",
       "      <td>AirAsia</td>\n",
       "      <td>Delhi</td>\n",
       "      <td>Early_Morning</td>\n",
       "      <td>zero</td>\n",
       "      <td>Early_Morning</td>\n",
       "      <td>Mumbai</td>\n",
       "      <td>Economy</td>\n",
       "      <td>1</td>\n",
       "      <td>5956</td>\n",
       "      <td>130</td>\n",
       "    </tr>\n",
       "    <tr>\n",
       "      <th>3</th>\n",
       "      <td>Vistara</td>\n",
       "      <td>Delhi</td>\n",
       "      <td>Morning</td>\n",
       "      <td>zero</td>\n",
       "      <td>Afternoon</td>\n",
       "      <td>Mumbai</td>\n",
       "      <td>Economy</td>\n",
       "      <td>1</td>\n",
       "      <td>5955</td>\n",
       "      <td>135</td>\n",
       "    </tr>\n",
       "    <tr>\n",
       "      <th>4</th>\n",
       "      <td>Vistara</td>\n",
       "      <td>Delhi</td>\n",
       "      <td>Morning</td>\n",
       "      <td>zero</td>\n",
       "      <td>Morning</td>\n",
       "      <td>Mumbai</td>\n",
       "      <td>Economy</td>\n",
       "      <td>1</td>\n",
       "      <td>5955</td>\n",
       "      <td>140</td>\n",
       "    </tr>\n",
       "    <tr>\n",
       "      <th>...</th>\n",
       "      <td>...</td>\n",
       "      <td>...</td>\n",
       "      <td>...</td>\n",
       "      <td>...</td>\n",
       "      <td>...</td>\n",
       "      <td>...</td>\n",
       "      <td>...</td>\n",
       "      <td>...</td>\n",
       "      <td>...</td>\n",
       "      <td>...</td>\n",
       "    </tr>\n",
       "    <tr>\n",
       "      <th>300148</th>\n",
       "      <td>Vistara</td>\n",
       "      <td>Chennai</td>\n",
       "      <td>Morning</td>\n",
       "      <td>one</td>\n",
       "      <td>Evening</td>\n",
       "      <td>Hyderabad</td>\n",
       "      <td>Business</td>\n",
       "      <td>49</td>\n",
       "      <td>69265</td>\n",
       "      <td>605</td>\n",
       "    </tr>\n",
       "    <tr>\n",
       "      <th>300149</th>\n",
       "      <td>Vistara</td>\n",
       "      <td>Chennai</td>\n",
       "      <td>Afternoon</td>\n",
       "      <td>one</td>\n",
       "      <td>Night</td>\n",
       "      <td>Hyderabad</td>\n",
       "      <td>Business</td>\n",
       "      <td>49</td>\n",
       "      <td>77105</td>\n",
       "      <td>625</td>\n",
       "    </tr>\n",
       "    <tr>\n",
       "      <th>300150</th>\n",
       "      <td>Vistara</td>\n",
       "      <td>Chennai</td>\n",
       "      <td>Early_Morning</td>\n",
       "      <td>one</td>\n",
       "      <td>Night</td>\n",
       "      <td>Hyderabad</td>\n",
       "      <td>Business</td>\n",
       "      <td>49</td>\n",
       "      <td>79099</td>\n",
       "      <td>830</td>\n",
       "    </tr>\n",
       "    <tr>\n",
       "      <th>300151</th>\n",
       "      <td>Vistara</td>\n",
       "      <td>Chennai</td>\n",
       "      <td>Early_Morning</td>\n",
       "      <td>one</td>\n",
       "      <td>Evening</td>\n",
       "      <td>Hyderabad</td>\n",
       "      <td>Business</td>\n",
       "      <td>49</td>\n",
       "      <td>81585</td>\n",
       "      <td>600</td>\n",
       "    </tr>\n",
       "    <tr>\n",
       "      <th>300152</th>\n",
       "      <td>Vistara</td>\n",
       "      <td>Chennai</td>\n",
       "      <td>Morning</td>\n",
       "      <td>one</td>\n",
       "      <td>Evening</td>\n",
       "      <td>Hyderabad</td>\n",
       "      <td>Business</td>\n",
       "      <td>49</td>\n",
       "      <td>81585</td>\n",
       "      <td>605</td>\n",
       "    </tr>\n",
       "  </tbody>\n",
       "</table>\n",
       "<p>300153 rows × 10 columns</p>\n",
       "</div>"
      ],
      "text/plain": [
       "         airline source_city departure_time stops   arrival_time  \\\n",
       "0       SpiceJet       Delhi        Evening  zero          Night   \n",
       "1       SpiceJet       Delhi  Early_Morning  zero        Morning   \n",
       "2        AirAsia       Delhi  Early_Morning  zero  Early_Morning   \n",
       "3        Vistara       Delhi        Morning  zero      Afternoon   \n",
       "4        Vistara       Delhi        Morning  zero        Morning   \n",
       "...          ...         ...            ...   ...            ...   \n",
       "300148   Vistara     Chennai        Morning   one        Evening   \n",
       "300149   Vistara     Chennai      Afternoon   one          Night   \n",
       "300150   Vistara     Chennai  Early_Morning   one          Night   \n",
       "300151   Vistara     Chennai  Early_Morning   one        Evening   \n",
       "300152   Vistara     Chennai        Morning   one        Evening   \n",
       "\n",
       "       destination_city     class  days_left  price  dur_mins  \n",
       "0                Mumbai   Economy          1   5953       130  \n",
       "1                Mumbai   Economy          1   5953       140  \n",
       "2                Mumbai   Economy          1   5956       130  \n",
       "3                Mumbai   Economy          1   5955       135  \n",
       "4                Mumbai   Economy          1   5955       140  \n",
       "...                 ...       ...        ...    ...       ...  \n",
       "300148        Hyderabad  Business         49  69265       605  \n",
       "300149        Hyderabad  Business         49  77105       625  \n",
       "300150        Hyderabad  Business         49  79099       830  \n",
       "300151        Hyderabad  Business         49  81585       600  \n",
       "300152        Hyderabad  Business         49  81585       605  \n",
       "\n",
       "[300153 rows x 10 columns]"
      ]
     },
     "execution_count": 7,
     "metadata": {},
     "output_type": "execute_result"
    }
   ],
   "source": [
    "df"
   ]
  },
  {
   "cell_type": "markdown",
   "id": "12623e6e",
   "metadata": {},
   "source": [
    "**Encoding catagorical columns to numerical**"
   ]
  },
  {
   "cell_type": "code",
   "execution_count": 8,
   "id": "288d4203",
   "metadata": {},
   "outputs": [],
   "source": [
    "# Encoding Categorical\n",
    "\n",
    "from sklearn.preprocessing import LabelEncoder\n",
    "le = LabelEncoder()\n",
    "\n",
    "df['airline']=le.fit_transform(df['airline'])\n",
    "df['source_city']=le.fit_transform(df['source_city'])\n",
    "df['departure_time']=le.fit_transform(df['departure_time'])\n",
    "df['stops']=le.fit_transform(df['stops'])\n",
    "df['arrival_time']=le.fit_transform(df['arrival_time'])\n",
    "df['destination_city']=le.fit_transform(df['destination_city'])\n",
    "df['class']=le.fit_transform(df['class'])"
   ]
  },
  {
   "cell_type": "code",
   "execution_count": 9,
   "id": "9d3265ae",
   "metadata": {},
   "outputs": [
    {
     "name": "stdout",
     "output_type": "stream",
     "text": [
      "<class 'pandas.core.frame.DataFrame'>\n",
      "RangeIndex: 300153 entries, 0 to 300152\n",
      "Data columns (total 10 columns):\n",
      " #   Column            Non-Null Count   Dtype\n",
      "---  ------            --------------   -----\n",
      " 0   airline           300153 non-null  int32\n",
      " 1   source_city       300153 non-null  int32\n",
      " 2   departure_time    300153 non-null  int32\n",
      " 3   stops             300153 non-null  int32\n",
      " 4   arrival_time      300153 non-null  int32\n",
      " 5   destination_city  300153 non-null  int32\n",
      " 6   class             300153 non-null  int32\n",
      " 7   days_left         300153 non-null  int64\n",
      " 8   price             300153 non-null  int64\n",
      " 9   dur_mins          300153 non-null  int32\n",
      "dtypes: int32(8), int64(2)\n",
      "memory usage: 13.7 MB\n"
     ]
    }
   ],
   "source": [
    "df.info()"
   ]
  },
  {
   "cell_type": "code",
   "execution_count": 10,
   "id": "70def751",
   "metadata": {},
   "outputs": [
    {
     "data": {
      "text/html": [
       "<div>\n",
       "<style scoped>\n",
       "    .dataframe tbody tr th:only-of-type {\n",
       "        vertical-align: middle;\n",
       "    }\n",
       "\n",
       "    .dataframe tbody tr th {\n",
       "        vertical-align: top;\n",
       "    }\n",
       "\n",
       "    .dataframe thead th {\n",
       "        text-align: right;\n",
       "    }\n",
       "</style>\n",
       "<table border=\"1\" class=\"dataframe\">\n",
       "  <thead>\n",
       "    <tr style=\"text-align: right;\">\n",
       "      <th></th>\n",
       "      <th>airline</th>\n",
       "      <th>source_city</th>\n",
       "      <th>departure_time</th>\n",
       "      <th>stops</th>\n",
       "      <th>arrival_time</th>\n",
       "      <th>destination_city</th>\n",
       "      <th>class</th>\n",
       "      <th>days_left</th>\n",
       "      <th>price</th>\n",
       "      <th>dur_mins</th>\n",
       "    </tr>\n",
       "  </thead>\n",
       "  <tbody>\n",
       "    <tr>\n",
       "      <th>0</th>\n",
       "      <td>4</td>\n",
       "      <td>2</td>\n",
       "      <td>2</td>\n",
       "      <td>2</td>\n",
       "      <td>5</td>\n",
       "      <td>5</td>\n",
       "      <td>1</td>\n",
       "      <td>1</td>\n",
       "      <td>5953</td>\n",
       "      <td>130</td>\n",
       "    </tr>\n",
       "    <tr>\n",
       "      <th>1</th>\n",
       "      <td>4</td>\n",
       "      <td>2</td>\n",
       "      <td>1</td>\n",
       "      <td>2</td>\n",
       "      <td>4</td>\n",
       "      <td>5</td>\n",
       "      <td>1</td>\n",
       "      <td>1</td>\n",
       "      <td>5953</td>\n",
       "      <td>140</td>\n",
       "    </tr>\n",
       "    <tr>\n",
       "      <th>2</th>\n",
       "      <td>0</td>\n",
       "      <td>2</td>\n",
       "      <td>1</td>\n",
       "      <td>2</td>\n",
       "      <td>1</td>\n",
       "      <td>5</td>\n",
       "      <td>1</td>\n",
       "      <td>1</td>\n",
       "      <td>5956</td>\n",
       "      <td>130</td>\n",
       "    </tr>\n",
       "    <tr>\n",
       "      <th>3</th>\n",
       "      <td>5</td>\n",
       "      <td>2</td>\n",
       "      <td>4</td>\n",
       "      <td>2</td>\n",
       "      <td>0</td>\n",
       "      <td>5</td>\n",
       "      <td>1</td>\n",
       "      <td>1</td>\n",
       "      <td>5955</td>\n",
       "      <td>135</td>\n",
       "    </tr>\n",
       "    <tr>\n",
       "      <th>4</th>\n",
       "      <td>5</td>\n",
       "      <td>2</td>\n",
       "      <td>4</td>\n",
       "      <td>2</td>\n",
       "      <td>4</td>\n",
       "      <td>5</td>\n",
       "      <td>1</td>\n",
       "      <td>1</td>\n",
       "      <td>5955</td>\n",
       "      <td>140</td>\n",
       "    </tr>\n",
       "    <tr>\n",
       "      <th>...</th>\n",
       "      <td>...</td>\n",
       "      <td>...</td>\n",
       "      <td>...</td>\n",
       "      <td>...</td>\n",
       "      <td>...</td>\n",
       "      <td>...</td>\n",
       "      <td>...</td>\n",
       "      <td>...</td>\n",
       "      <td>...</td>\n",
       "      <td>...</td>\n",
       "    </tr>\n",
       "    <tr>\n",
       "      <th>300148</th>\n",
       "      <td>5</td>\n",
       "      <td>1</td>\n",
       "      <td>4</td>\n",
       "      <td>0</td>\n",
       "      <td>2</td>\n",
       "      <td>3</td>\n",
       "      <td>0</td>\n",
       "      <td>49</td>\n",
       "      <td>69265</td>\n",
       "      <td>605</td>\n",
       "    </tr>\n",
       "    <tr>\n",
       "      <th>300149</th>\n",
       "      <td>5</td>\n",
       "      <td>1</td>\n",
       "      <td>0</td>\n",
       "      <td>0</td>\n",
       "      <td>5</td>\n",
       "      <td>3</td>\n",
       "      <td>0</td>\n",
       "      <td>49</td>\n",
       "      <td>77105</td>\n",
       "      <td>625</td>\n",
       "    </tr>\n",
       "    <tr>\n",
       "      <th>300150</th>\n",
       "      <td>5</td>\n",
       "      <td>1</td>\n",
       "      <td>1</td>\n",
       "      <td>0</td>\n",
       "      <td>5</td>\n",
       "      <td>3</td>\n",
       "      <td>0</td>\n",
       "      <td>49</td>\n",
       "      <td>79099</td>\n",
       "      <td>830</td>\n",
       "    </tr>\n",
       "    <tr>\n",
       "      <th>300151</th>\n",
       "      <td>5</td>\n",
       "      <td>1</td>\n",
       "      <td>1</td>\n",
       "      <td>0</td>\n",
       "      <td>2</td>\n",
       "      <td>3</td>\n",
       "      <td>0</td>\n",
       "      <td>49</td>\n",
       "      <td>81585</td>\n",
       "      <td>600</td>\n",
       "    </tr>\n",
       "    <tr>\n",
       "      <th>300152</th>\n",
       "      <td>5</td>\n",
       "      <td>1</td>\n",
       "      <td>4</td>\n",
       "      <td>0</td>\n",
       "      <td>2</td>\n",
       "      <td>3</td>\n",
       "      <td>0</td>\n",
       "      <td>49</td>\n",
       "      <td>81585</td>\n",
       "      <td>605</td>\n",
       "    </tr>\n",
       "  </tbody>\n",
       "</table>\n",
       "<p>300153 rows × 10 columns</p>\n",
       "</div>"
      ],
      "text/plain": [
       "        airline  source_city  departure_time  stops  arrival_time  \\\n",
       "0             4            2               2      2             5   \n",
       "1             4            2               1      2             4   \n",
       "2             0            2               1      2             1   \n",
       "3             5            2               4      2             0   \n",
       "4             5            2               4      2             4   \n",
       "...         ...          ...             ...    ...           ...   \n",
       "300148        5            1               4      0             2   \n",
       "300149        5            1               0      0             5   \n",
       "300150        5            1               1      0             5   \n",
       "300151        5            1               1      0             2   \n",
       "300152        5            1               4      0             2   \n",
       "\n",
       "        destination_city  class  days_left  price  dur_mins  \n",
       "0                      5      1          1   5953       130  \n",
       "1                      5      1          1   5953       140  \n",
       "2                      5      1          1   5956       130  \n",
       "3                      5      1          1   5955       135  \n",
       "4                      5      1          1   5955       140  \n",
       "...                  ...    ...        ...    ...       ...  \n",
       "300148                 3      0         49  69265       605  \n",
       "300149                 3      0         49  77105       625  \n",
       "300150                 3      0         49  79099       830  \n",
       "300151                 3      0         49  81585       600  \n",
       "300152                 3      0         49  81585       605  \n",
       "\n",
       "[300153 rows x 10 columns]"
      ]
     },
     "execution_count": 10,
     "metadata": {},
     "output_type": "execute_result"
    }
   ],
   "source": [
    "df"
   ]
  },
  {
   "cell_type": "code",
   "execution_count": 11,
   "id": "cb4cddb4",
   "metadata": {},
   "outputs": [],
   "source": [
    "num_var = ['airline', 'source_city', 'departure_time', 'stops','arrival_time' , 'destination_city', 'class']\n",
    "cat_var = ['days_left','dur_mins']\n",
    "y = df['price']"
   ]
  },
  {
   "cell_type": "code",
   "execution_count": 12,
   "id": "baf56db0",
   "metadata": {},
   "outputs": [
    {
     "data": {
      "text/html": [
       "<div>\n",
       "<style scoped>\n",
       "    .dataframe tbody tr th:only-of-type {\n",
       "        vertical-align: middle;\n",
       "    }\n",
       "\n",
       "    .dataframe tbody tr th {\n",
       "        vertical-align: top;\n",
       "    }\n",
       "\n",
       "    .dataframe thead th {\n",
       "        text-align: right;\n",
       "    }\n",
       "</style>\n",
       "<table border=\"1\" class=\"dataframe\">\n",
       "  <thead>\n",
       "    <tr style=\"text-align: right;\">\n",
       "      <th></th>\n",
       "      <th>days_left</th>\n",
       "      <th>dur_mins</th>\n",
       "      <th>airline</th>\n",
       "      <th>source_city</th>\n",
       "      <th>departure_time</th>\n",
       "      <th>stops</th>\n",
       "      <th>arrival_time</th>\n",
       "      <th>destination_city</th>\n",
       "      <th>class</th>\n",
       "    </tr>\n",
       "  </thead>\n",
       "  <tbody>\n",
       "    <tr>\n",
       "      <th>0</th>\n",
       "      <td>1</td>\n",
       "      <td>130</td>\n",
       "      <td>4</td>\n",
       "      <td>2</td>\n",
       "      <td>2</td>\n",
       "      <td>2</td>\n",
       "      <td>5</td>\n",
       "      <td>5</td>\n",
       "      <td>1</td>\n",
       "    </tr>\n",
       "    <tr>\n",
       "      <th>1</th>\n",
       "      <td>1</td>\n",
       "      <td>140</td>\n",
       "      <td>4</td>\n",
       "      <td>2</td>\n",
       "      <td>1</td>\n",
       "      <td>2</td>\n",
       "      <td>4</td>\n",
       "      <td>5</td>\n",
       "      <td>1</td>\n",
       "    </tr>\n",
       "    <tr>\n",
       "      <th>2</th>\n",
       "      <td>1</td>\n",
       "      <td>130</td>\n",
       "      <td>0</td>\n",
       "      <td>2</td>\n",
       "      <td>1</td>\n",
       "      <td>2</td>\n",
       "      <td>1</td>\n",
       "      <td>5</td>\n",
       "      <td>1</td>\n",
       "    </tr>\n",
       "    <tr>\n",
       "      <th>3</th>\n",
       "      <td>1</td>\n",
       "      <td>135</td>\n",
       "      <td>5</td>\n",
       "      <td>2</td>\n",
       "      <td>4</td>\n",
       "      <td>2</td>\n",
       "      <td>0</td>\n",
       "      <td>5</td>\n",
       "      <td>1</td>\n",
       "    </tr>\n",
       "    <tr>\n",
       "      <th>4</th>\n",
       "      <td>1</td>\n",
       "      <td>140</td>\n",
       "      <td>5</td>\n",
       "      <td>2</td>\n",
       "      <td>4</td>\n",
       "      <td>2</td>\n",
       "      <td>4</td>\n",
       "      <td>5</td>\n",
       "      <td>1</td>\n",
       "    </tr>\n",
       "    <tr>\n",
       "      <th>...</th>\n",
       "      <td>...</td>\n",
       "      <td>...</td>\n",
       "      <td>...</td>\n",
       "      <td>...</td>\n",
       "      <td>...</td>\n",
       "      <td>...</td>\n",
       "      <td>...</td>\n",
       "      <td>...</td>\n",
       "      <td>...</td>\n",
       "    </tr>\n",
       "    <tr>\n",
       "      <th>300148</th>\n",
       "      <td>49</td>\n",
       "      <td>605</td>\n",
       "      <td>5</td>\n",
       "      <td>1</td>\n",
       "      <td>4</td>\n",
       "      <td>0</td>\n",
       "      <td>2</td>\n",
       "      <td>3</td>\n",
       "      <td>0</td>\n",
       "    </tr>\n",
       "    <tr>\n",
       "      <th>300149</th>\n",
       "      <td>49</td>\n",
       "      <td>625</td>\n",
       "      <td>5</td>\n",
       "      <td>1</td>\n",
       "      <td>0</td>\n",
       "      <td>0</td>\n",
       "      <td>5</td>\n",
       "      <td>3</td>\n",
       "      <td>0</td>\n",
       "    </tr>\n",
       "    <tr>\n",
       "      <th>300150</th>\n",
       "      <td>49</td>\n",
       "      <td>830</td>\n",
       "      <td>5</td>\n",
       "      <td>1</td>\n",
       "      <td>1</td>\n",
       "      <td>0</td>\n",
       "      <td>5</td>\n",
       "      <td>3</td>\n",
       "      <td>0</td>\n",
       "    </tr>\n",
       "    <tr>\n",
       "      <th>300151</th>\n",
       "      <td>49</td>\n",
       "      <td>600</td>\n",
       "      <td>5</td>\n",
       "      <td>1</td>\n",
       "      <td>1</td>\n",
       "      <td>0</td>\n",
       "      <td>2</td>\n",
       "      <td>3</td>\n",
       "      <td>0</td>\n",
       "    </tr>\n",
       "    <tr>\n",
       "      <th>300152</th>\n",
       "      <td>49</td>\n",
       "      <td>605</td>\n",
       "      <td>5</td>\n",
       "      <td>1</td>\n",
       "      <td>4</td>\n",
       "      <td>0</td>\n",
       "      <td>2</td>\n",
       "      <td>3</td>\n",
       "      <td>0</td>\n",
       "    </tr>\n",
       "  </tbody>\n",
       "</table>\n",
       "<p>300153 rows × 9 columns</p>\n",
       "</div>"
      ],
      "text/plain": [
       "        days_left  dur_mins  airline  source_city  departure_time  stops  \\\n",
       "0               1       130        4            2               2      2   \n",
       "1               1       140        4            2               1      2   \n",
       "2               1       130        0            2               1      2   \n",
       "3               1       135        5            2               4      2   \n",
       "4               1       140        5            2               4      2   \n",
       "...           ...       ...      ...          ...             ...    ...   \n",
       "300148         49       605        5            1               4      0   \n",
       "300149         49       625        5            1               0      0   \n",
       "300150         49       830        5            1               1      0   \n",
       "300151         49       600        5            1               1      0   \n",
       "300152         49       605        5            1               4      0   \n",
       "\n",
       "        arrival_time  destination_city  class  \n",
       "0                  5                 5      1  \n",
       "1                  4                 5      1  \n",
       "2                  1                 5      1  \n",
       "3                  0                 5      1  \n",
       "4                  4                 5      1  \n",
       "...              ...               ...    ...  \n",
       "300148             2                 3      0  \n",
       "300149             5                 3      0  \n",
       "300150             5                 3      0  \n",
       "300151             2                 3      0  \n",
       "300152             2                 3      0  \n",
       "\n",
       "[300153 rows x 9 columns]"
      ]
     },
     "execution_count": 12,
     "metadata": {},
     "output_type": "execute_result"
    }
   ],
   "source": [
    "X = df[cat_var + num_var]\n",
    "X"
   ]
  },
  {
   "cell_type": "code",
   "execution_count": 13,
   "id": "4ab9b6e0",
   "metadata": {},
   "outputs": [
    {
     "name": "stdout",
     "output_type": "stream",
     "text": [
      "<class 'pandas.core.frame.DataFrame'>\n",
      "<class 'pandas.core.series.Series'>\n"
     ]
    }
   ],
   "source": [
    "print(type(X))\n",
    "print(type(y))"
   ]
  },
  {
   "cell_type": "code",
   "execution_count": null,
   "id": "e4758544",
   "metadata": {},
   "outputs": [],
   "source": [
    "#XX=X.to_numpy()\n",
    "#yy=y.to_numpy()\n",
    "\n",
    "#print(type(yy))\n",
    "#print(type(XX))\n",
    "#print(XX.shape)\n",
    "#print(yy.shape)"
   ]
  },
  {
   "cell_type": "code",
   "execution_count": 14,
   "id": "1b49f147",
   "metadata": {},
   "outputs": [
    {
     "name": "stdout",
     "output_type": "stream",
     "text": [
      "X_train.shape: (240122, 9)\n",
      "X_test.shape: (60031, 9)\n",
      "y_train.shape: (240122,)\n",
      "y_test.shape: (60031,)\n"
     ]
    }
   ],
   "source": [
    "# Train-test split:\n",
    "\n",
    "X_train, X_test, y_train, y_test = train_test_split(X, y, test_size=0.2, random_state=123)\n",
    "\n",
    "print(f\"X_train.shape: {X_train.shape}\")\n",
    "print(f\"X_test.shape: {X_test.shape}\")\n",
    "print(f\"y_train.shape: {y_train.shape}\")\n",
    "print(f\"y_test.shape: {y_test.shape}\")"
   ]
  },
  {
   "cell_type": "code",
   "execution_count": 15,
   "id": "fd32c178",
   "metadata": {},
   "outputs": [],
   "source": [
    "# Preprocessing with pipelines\n",
    "\n",
    "from sklearn.pipeline import Pipeline  \n",
    "from sklearn.compose import ColumnTransformer \n",
    "from sklearn.preprocessing import MinMaxScaler, OneHotEncoder \n",
    "\n",
    "\n",
    "pipeline_categorical = Pipeline([('onehot', OneHotEncoder(handle_unknown=\"ignore\")),])\n",
    "\n",
    "pipeline_numerical = Pipeline([('scaler', MinMaxScaler(feature_range=(0,1))),])\n",
    "\n",
    "pipeline_full = ColumnTransformer([(\"categorical\", pipeline_categorical, cat_var),\n",
    "                                   (\"numerical\", pipeline_numerical, num_var),])"
   ]
  },
  {
   "cell_type": "code",
   "execution_count": 16,
   "id": "25f8de45",
   "metadata": {},
   "outputs": [
    {
     "name": "stdout",
     "output_type": "stream",
     "text": [
      "X_train_transformed.shape: (240122, 530)\n",
      "X_test_transformed.shape: (60031, 530)\n",
      "\n",
      "X_train_transformed: <class 'scipy.sparse.csr.csr_matrix'>\n",
      "X_test_transformed: <class 'scipy.sparse.csr.csr_matrix'>\n"
     ]
    }
   ],
   "source": [
    "# Apply the pipeline\n",
    "\n",
    "pipeline_full.fit(X_train)\n",
    "\n",
    "X_train_transformed = pipeline_full.transform(X_train)\n",
    "X_test_transformed = pipeline_full.transform(X_test)\n",
    "\n",
    "print(f\"X_train_transformed.shape: {X_train_transformed.shape}\")\n",
    "print(f\"X_test_transformed.shape: {X_test_transformed.shape}\")\n",
    "print()\n",
    "print('X_train_transformed:', type(X_train_transformed))\n",
    "print('X_test_transformed:', type(X_test_transformed))"
   ]
  },
  {
   "cell_type": "code",
   "execution_count": 17,
   "id": "58fc1f89",
   "metadata": {},
   "outputs": [
    {
     "name": "stdout",
     "output_type": "stream",
     "text": [
      "X_train_transformed: (240122, 530)\n",
      "X_test_transformed: (60031, 530)\n",
      "\n",
      "X_train_transformed: <class 'tuple'>\n",
      "X_test_transformed: <class 'tuple'>\n"
     ]
    }
   ],
   "source": [
    "#X_train_transformed.reshape(-1,1)\n",
    "#X_test_transformed.reshape(-1,1)\n",
    "\n",
    "print('X_train_transformed:', X_train_transformed.shape)\n",
    "print('X_test_transformed:', X_test_transformed.shape)\n",
    "print()\n",
    "print('X_train_transformed:', type(X_train_transformed.shape))\n",
    "print('X_test_transformed:', type(X_test_transformed.shape))"
   ]
  },
  {
   "cell_type": "code",
   "execution_count": 18,
   "id": "a571bf3f",
   "metadata": {},
   "outputs": [
    {
     "name": "stdout",
     "output_type": "stream",
     "text": [
      "y_train: <class 'pandas.core.series.Series'>\n",
      "y_test: <class 'pandas.core.series.Series'>\n",
      "\n",
      "y_train: (240122,)\n",
      "y_test: (60031,)\n"
     ]
    }
   ],
   "source": [
    "print('y_train:', type(y_train))\n",
    "print('y_test:', type(y_test))\n",
    "print()\n",
    "print('y_train:', y_train.shape)\n",
    "print('y_test:', y_test.shape)"
   ]
  },
  {
   "cell_type": "code",
   "execution_count": 19,
   "id": "45cf728c",
   "metadata": {},
   "outputs": [],
   "source": [
    "y_test= y_test.to_numpy()\n",
    "y_train= y_train.to_numpy()"
   ]
  },
  {
   "cell_type": "code",
   "execution_count": 20,
   "id": "5cf06021",
   "metadata": {},
   "outputs": [
    {
     "name": "stdout",
     "output_type": "stream",
     "text": [
      "y_train: <class 'numpy.ndarray'>\n",
      "y_test: <class 'numpy.ndarray'>\n",
      "\n",
      "y_train: (240122,)\n",
      "y_test: (60031,)\n"
     ]
    }
   ],
   "source": [
    "print('y_train:', type(y_train))\n",
    "print('y_test:', type(y_test))\n",
    "print()\n",
    "print('y_train:', y_train.shape)\n",
    "print('y_test:', y_test.shape)"
   ]
  },
  {
   "cell_type": "code",
   "execution_count": 21,
   "id": "d48950e8",
   "metadata": {},
   "outputs": [],
   "source": [
    "#y_train=np.reshape(y_train,(-1,1))\n",
    "#y_train"
   ]
  },
  {
   "cell_type": "code",
   "execution_count": null,
   "id": "26b21f2a",
   "metadata": {},
   "outputs": [],
   "source": [
    "#y_test=np.reshape(y_test,(-1,1))\n",
    "#y_test"
   ]
  },
  {
   "cell_type": "markdown",
   "id": "acafaaf9",
   "metadata": {},
   "source": [
    "**Linear Regression**"
   ]
  },
  {
   "cell_type": "code",
   "execution_count": 22,
   "id": "bd2ec20d",
   "metadata": {},
   "outputs": [
    {
     "data": {
      "text/plain": [
       "LinearRegression()"
      ]
     },
     "execution_count": 22,
     "metadata": {},
     "output_type": "execute_result"
    }
   ],
   "source": [
    "from sklearn.linear_model import LinearRegression\n",
    "lin_reg = LinearRegression()\n",
    "lin_reg.fit(X_train_transformed, y_train)"
   ]
  },
  {
   "cell_type": "code",
   "execution_count": 23,
   "id": "44c9b9f8",
   "metadata": {},
   "outputs": [
    {
     "data": {
      "text/plain": [
       "array([48348.71765126, 10614.00332972,  8676.06913745, ...,\n",
       "        5712.372232  ,  6397.05113436,  9803.80323405])"
      ]
     },
     "execution_count": 23,
     "metadata": {},
     "output_type": "execute_result"
    }
   ],
   "source": [
    "y_pred =lin_reg.predict(X_test_transformed)\n",
    "y_pred"
   ]
  },
  {
   "cell_type": "code",
   "execution_count": 24,
   "id": "02c2bc72",
   "metadata": {},
   "outputs": [
    {
     "name": "stdout",
     "output_type": "stream",
     "text": [
      "y_test: <class 'numpy.ndarray'>\n",
      "y_pred: <class 'numpy.ndarray'>\n"
     ]
    }
   ],
   "source": [
    "print('y_test:', type(y_test))\n",
    "print('y_pred:', type(y_pred))"
   ]
  },
  {
   "cell_type": "code",
   "execution_count": 25,
   "id": "03cfbb85",
   "metadata": {},
   "outputs": [
    {
     "name": "stdout",
     "output_type": "stream",
     "text": [
      "Predicted 1-5: [48348.71765126 10614.00332972  8676.06913745 53266.29804075\n",
      "  5608.70147125]\n",
      "Actual 1-5: [44652  7488  4792 54608  4298]\n"
     ]
    }
   ],
   "source": [
    "print(\"Predicted 1-5:\", y_pred[0:5])\n",
    "print(\"Actual 1-5:\", y_test[0:5])"
   ]
  },
  {
   "cell_type": "code",
   "execution_count": 26,
   "id": "7547caf6",
   "metadata": {},
   "outputs": [
    {
     "name": "stdout",
     "output_type": "stream",
     "text": [
      "Mean_Squared_Error(MSE):  43443491.609\n",
      "Mean_Absolute_Error(MEA): 4419.435\n",
      "R2_Score: 0.915\n",
      "RMSE: 6591.168\n",
      "Root_Mean_Squared_Log_Error(RMSLE): 8.793\n"
     ]
    }
   ],
   "source": [
    "from sklearn import metrics\n",
    "from sklearn.metrics import mean_squared_error, r2_score\n",
    "\n",
    "# MSE (Mean Squared Error):\n",
    "print(\"Mean_Squared_Error(MSE): \" , round(mean_squared_error(y_test, y_pred),3))\n",
    "\n",
    "# Mean_Absolute_Error (MAE)\n",
    "print('Mean_Absolute_Error(MEA):', round(metrics.mean_absolute_error(y_test, y_pred),3))  \n",
    "\n",
    "# R2_score \n",
    "print('R2_Score:', round(metrics.r2_score(y_test, y_pred),3))\n",
    "\n",
    "#R_squared = r2_score(y_test, y_pred)\n",
    "#print(R_squared)\n",
    "\n",
    "# RMSE (Root Mean Squared Error):\n",
    "RMSE = round(np.sqrt(mean_squared_error(y_test, y_pred)),3)\n",
    "print('RMSE:', RMSE)\n",
    "\n",
    "# Root_ Mean_Squared_Log_Error(RMSLE)\n",
    "print('Root_Mean_Squared_Log_Error(RMSLE):', round(np.log(np.sqrt(metrics.mean_squared_error(y_test, y_pred))),3))\n"
   ]
  },
  {
   "cell_type": "code",
   "execution_count": 27,
   "id": "c0e5d32a",
   "metadata": {},
   "outputs": [],
   "source": [
    "MSE= round(mean_squared_error(y_test, y_pred),3)\n",
    "MAE= round(metrics.mean_absolute_error(y_test, y_pred),3)\n",
    "R2_Score= round(metrics.r2_score(y_test, y_pred),3)\n",
    "RMSE= round(np.sqrt(mean_squared_error(y_test, y_pred)),3)\n",
    "RMSLE= round(np.log(np.sqrt(metrics.mean_squared_error(y_test, y_pred))),3)"
   ]
  },
  {
   "cell_type": "code",
   "execution_count": 28,
   "id": "eaad97ec",
   "metadata": {},
   "outputs": [
    {
     "data": {
      "text/html": [
       "<div>\n",
       "<style scoped>\n",
       "    .dataframe tbody tr th:only-of-type {\n",
       "        vertical-align: middle;\n",
       "    }\n",
       "\n",
       "    .dataframe tbody tr th {\n",
       "        vertical-align: top;\n",
       "    }\n",
       "\n",
       "    .dataframe thead th {\n",
       "        text-align: right;\n",
       "    }\n",
       "</style>\n",
       "<table border=\"1\" class=\"dataframe\">\n",
       "  <thead>\n",
       "    <tr style=\"text-align: right;\">\n",
       "      <th></th>\n",
       "      <th>Model</th>\n",
       "      <th>MSE</th>\n",
       "      <th>MAE</th>\n",
       "      <th>R2_Score</th>\n",
       "      <th>RMSE</th>\n",
       "      <th>RMSLE</th>\n",
       "    </tr>\n",
       "  </thead>\n",
       "  <tbody>\n",
       "    <tr>\n",
       "      <th>0</th>\n",
       "      <td>Linear_Reg</td>\n",
       "      <td>4.344349e+07</td>\n",
       "      <td>4419.435</td>\n",
       "      <td>0.915</td>\n",
       "      <td>6591.168</td>\n",
       "      <td>8.793</td>\n",
       "    </tr>\n",
       "  </tbody>\n",
       "</table>\n",
       "</div>"
      ],
      "text/plain": [
       "        Model           MSE       MAE  R2_Score      RMSE  RMSLE\n",
       "0  Linear_Reg  4.344349e+07  4419.435     0.915  6591.168  8.793"
      ]
     },
     "execution_count": 28,
     "metadata": {},
     "output_type": "execute_result"
    }
   ],
   "source": [
    "Results_LinearRegression = pd.DataFrame([['Linear_Reg', MSE , MAE, R2_Score , RMSE, RMSLE]],\n",
    "               columns = ['Model', 'MSE', 'MAE', 'R2_Score' , 'RMSE', 'RMSLE'])\n",
    "Results_LinearRegression"
   ]
  },
  {
   "cell_type": "code",
   "execution_count": 29,
   "id": "6021b171",
   "metadata": {},
   "outputs": [
    {
     "name": "stdout",
     "output_type": "stream",
     "text": [
      "Mean Accuracy:  6.909 % std:  15.866 %\n"
     ]
    }
   ],
   "source": [
    "# Cross-validation on DF\n",
    "\n",
    "cv_scores = cross_val_score(lin_reg, X, np.ravel(y), cv=5)\n",
    "print('Mean Accuracy: ', round(cv_scores.mean()*100, 3), '% std: ', round(cv_scores.var()*100, 3),'%')"
   ]
  },
  {
   "cell_type": "code",
   "execution_count": 30,
   "id": "67b5aa0c",
   "metadata": {},
   "outputs": [
    {
     "data": {
      "text/plain": [
       "array([ 4034.35472858,  4059.22159257,  3903.6735943 ,  9758.24123308,\n",
       "       11776.08641447])"
      ]
     },
     "execution_count": 30,
     "metadata": {},
     "output_type": "execute_result"
    }
   ],
   "source": [
    "# Cross-validation on DF\n",
    "\n",
    "scores = cross_val_score(lin_reg, X, np.ravel(y), cv=5, scoring='neg_mean_squared_error')\n",
    "np.sqrt(-scores)"
   ]
  },
  {
   "cell_type": "code",
   "execution_count": 31,
   "id": "d7ed2105",
   "metadata": {},
   "outputs": [
    {
     "name": "stdout",
     "output_type": "stream",
     "text": [
      "Scores: [ 4034.35472858  4059.22159257  3903.6735943   9758.24123308\n",
      " 11776.08641447]\n",
      "Mean: 6706.315512601208\n",
      "Standard deviation: 3376.924931822836\n"
     ]
    }
   ],
   "source": [
    "# Cross-validation on DF\n",
    "\n",
    "print(\"Scores:\", np.sqrt(-scores))\n",
    "print(\"Mean:\", np.sqrt(-scores).mean())\n",
    "print(\"Standard deviation:\", np.sqrt(-scores).std())"
   ]
  },
  {
   "cell_type": "code",
   "execution_count": 32,
   "id": "524d646a",
   "metadata": {},
   "outputs": [
    {
     "name": "stdout",
     "output_type": "stream",
     "text": [
      "Mean Accuracy:  91.562 % std:  0.0 %\n"
     ]
    }
   ],
   "source": [
    "# Cross-validation On Traing set:\n",
    "\n",
    "cv_scores = cross_val_score(lin_reg, X_train_transformed, y_train, cv=5)\n",
    "print('Mean Accuracy: ', round(cv_scores.mean()*100, 3), '% std: ', round(cv_scores.var()*100, 3),'%')"
   ]
  },
  {
   "cell_type": "code",
   "execution_count": 33,
   "id": "19430137",
   "metadata": {},
   "outputs": [
    {
     "data": {
      "text/plain": [
       "array([6595.56678967, 6585.64240087, 6605.09620276, 6627.41249072,\n",
       "       6567.26227816])"
      ]
     },
     "execution_count": 33,
     "metadata": {},
     "output_type": "execute_result"
    }
   ],
   "source": [
    "# Cross-validation On Traing set:\n",
    "\n",
    "scores = cross_val_score(lin_reg, X_train_transformed, y_train, cv=5, scoring='neg_mean_squared_error')\n",
    "np.sqrt(-scores)"
   ]
  },
  {
   "cell_type": "code",
   "execution_count": 34,
   "id": "69adefd7",
   "metadata": {},
   "outputs": [
    {
     "name": "stdout",
     "output_type": "stream",
     "text": [
      "Scores: [6595.56678967 6585.64240087 6605.09620276 6627.41249072 6567.26227816]\n",
      "Mean: 6596.196032437403\n",
      "Standard deviation: 20.013083329374666\n"
     ]
    }
   ],
   "source": [
    "# Cross-validation On Traing set:\n",
    "\n",
    "print(\"Scores:\", np.sqrt(-scores))\n",
    "print(\"Mean:\", np.sqrt(-scores).mean())\n",
    "print(\"Standard deviation:\", np.sqrt(-scores).std())"
   ]
  },
  {
   "cell_type": "code",
   "execution_count": 35,
   "id": "e9420782",
   "metadata": {},
   "outputs": [
    {
     "data": {
      "image/png": "[encoded data removed]",
      "text/plain": [
       "<Figure size 1440x1080 with 2 Axes>"
      ]
     },
     "metadata": {
      "needs_background": "light"
     },
     "output_type": "display_data"
    }
   ],
   "source": [
    "# visualizing the predictions\n",
    "def plot_regression(y_true, y_pred, title=\"\", axis_label=\"\"):\n",
    "  y_residual = np.abs(y_true-y_pred)\n",
    "  fig, ax = plt.subplots(figsize=(20,15))\n",
    "  scatter = ax.scatter(x=y_true, y=y_pred, c=y_residual, cmap=\"cool\", marker=\"o\", s=100, alpha=0.8)\n",
    " # ax.set_xlabel(\"Actual %s\"%axis_label, fontsize=16); ax.set_ylabel(\"Predicted %s\"%axis_label, fontsize=16); \n",
    "  #ax.set_title(title, fontsize=18);\n",
    " # ax.set_xlim(0, 1000); ax.set_ylim(0, 1000);\n",
    "  ax.set_aspect(1)\n",
    "  cbar = plt.colorbar(scatter)\n",
    "  cbar.ax.set_ylabel(\"Residual\", rotation=90, fontsize=16)\n",
    "  ax.plot([np.min(y_true), np.max(y_true)], [np.min(y_true), np.max(y_true)], \"r--\", alpha=0.75, linewidth=3)\n",
    "  from sklearn.metrics import r2_score\n",
    "  R_squared = r2_score(y_true, y_pred) #forest.score(X_df, y_df)\n",
    "  plt.figtext(0.22,0.85,\"$R^{2}$ = \"+str(R_squared.round(3)), fontsize=16, ha=\"center\",backgroundcolor=(0,0,0,0.4),color=\"w\")\n",
    "\n",
    "plot_regression(y_test, y_pred, title=\"Random Forest Regressor\", axis_label=\"bike count per hour\")"
   ]
  },
  {
   "cell_type": "code",
   "execution_count": 36,
   "id": "84f9c770",
   "metadata": {},
   "outputs": [
    {
     "data": {
      "image/png": "[encoded data removed]",
      "text/plain": [
       "<Figure size 432x288 with 1 Axes>"
      ]
     },
     "metadata": {
      "needs_background": "light"
     },
     "output_type": "display_data"
    }
   ],
   "source": [
    "# Ploting the learning curve:\n",
    "\n",
    "from sklearn.model_selection import learning_curve\n",
    "train_sizes, train_scores, test_scores = learning_curve(estimator=lin_reg, X=X_train_transformed, y=y_train,\n",
    "                                                       cv=10, train_sizes=np.linspace(0.1, 1.0, 10), n_jobs=-1)\n",
    "\n",
    "\n",
    "\n",
    "# Calculate training and test mean and std\n",
    "\n",
    "train_mean = np.mean(train_scores, axis=1)\n",
    "train_std = np.std(train_scores, axis=1)\n",
    "test_mean = np.mean(test_scores, axis=1)\n",
    "test_std = np.std(test_scores, axis=1)\n",
    "\n",
    "# Plot the learning curve\n",
    "\n",
    "plt.plot(train_sizes, train_mean, color='blue', marker='o', markersize=5, label='Training Score')\n",
    "plt.fill_between(train_sizes, train_mean + train_std, train_mean - train_std, alpha=0.15, color='blue')\n",
    "\n",
    "plt.plot(train_sizes, test_mean, color='green', marker='o', markersize=5, label='Cross-Validation Score')\n",
    "plt.fill_between(train_sizes, test_mean + test_std, test_mean - test_std, alpha=0.15, color='green')\n",
    "\n",
    "plt.title('Linear Regression Learning Curve ')\n",
    "plt.xlabel('Training Example', fontsize=12)\n",
    "plt.ylabel('Accuracy Score', fontsize=12)\n",
    "\n",
    "plt.legend(loc='upper center')\n",
    "plt.show()"
   ]
  },
  {
   "cell_type": "markdown",
   "id": "db2911df",
   "metadata": {},
   "source": [
    "**Decision Tree Regressor**"
   ]
  },
  {
   "cell_type": "code",
   "execution_count": 37,
   "id": "712770a1",
   "metadata": {},
   "outputs": [
    {
     "data": {
      "text/plain": [
       "DecisionTreeRegressor()"
      ]
     },
     "execution_count": 37,
     "metadata": {},
     "output_type": "execute_result"
    }
   ],
   "source": [
    "from sklearn.tree import DecisionTreeRegressor\n",
    "tree_reg = DecisionTreeRegressor()\n",
    "tree_reg.fit(X_train_transformed, y_train)"
   ]
  },
  {
   "cell_type": "code",
   "execution_count": 38,
   "id": "f5815cb3",
   "metadata": {},
   "outputs": [
    {
     "data": {
      "text/plain": [
       "array([36700.,  7593.,  4792., ...,  3862.,  5102.,  6067.])"
      ]
     },
     "execution_count": 38,
     "metadata": {},
     "output_type": "execute_result"
    }
   ],
   "source": [
    "y_pred =tree_reg.predict(X_test_transformed)\n",
    "y_pred"
   ]
  },
  {
   "cell_type": "code",
   "execution_count": 39,
   "id": "56c78ca7",
   "metadata": {},
   "outputs": [
    {
     "name": "stdout",
     "output_type": "stream",
     "text": [
      "Predicted 1-5: [36700.  7593.  4792. 54608.  4337.]\n",
      "Actual 1-5: [44652  7488  4792 54608  4298]\n"
     ]
    }
   ],
   "source": [
    "print(\"Predicted 1-5:\", y_pred[0:5])\n",
    "print(\"Actual 1-5:\", y_test[0:5])"
   ]
  },
  {
   "cell_type": "code",
   "execution_count": 40,
   "id": "592093f6",
   "metadata": {},
   "outputs": [
    {
     "name": "stdout",
     "output_type": "stream",
     "text": [
      "Mean_Squared_Error(MSE):  10129738.723\n",
      "Mean_Absolute_Error(MEA): 1083.511\n",
      "R2_Score: 0.98\n",
      "RMSE: 3182.725\n",
      "Root_Mean_Squared_Log_Error(RMSLE): 8.065\n"
     ]
    }
   ],
   "source": [
    "from sklearn import metrics\n",
    "from sklearn.metrics import mean_squared_error, r2_score\n",
    "\n",
    "# MSE (Mean Squared Error):\n",
    "print(\"Mean_Squared_Error(MSE): \" , round(mean_squared_error(y_test, y_pred),3))\n",
    "\n",
    "# Mean_Absolute_Error (MAE)\n",
    "print('Mean_Absolute_Error(MEA):', round(metrics.mean_absolute_error(y_test, y_pred),3))  \n",
    "\n",
    "# R2_score \n",
    "print('R2_Score:', round(metrics.r2_score(y_test, y_pred),3))\n",
    "\n",
    "#R_squared = r2_score(y_test, y_pred)\n",
    "#print(R_squared)\n",
    "\n",
    "# RMSE (Root Mean Squared Error):\n",
    "RMSE = round(np.sqrt(mean_squared_error(y_test, y_pred)),3)\n",
    "print('RMSE:', RMSE)\n",
    "\n",
    "# Root_ Mean_Squared_Log_Error(RMSLE)\n",
    "print('Root_Mean_Squared_Log_Error(RMSLE):', round(np.log(np.sqrt(metrics.mean_squared_error(y_test, y_pred))),3))\n"
   ]
  },
  {
   "cell_type": "code",
   "execution_count": 41,
   "id": "14bddbfc",
   "metadata": {},
   "outputs": [],
   "source": [
    "MSE= round(mean_squared_error(y_test, y_pred),3)\n",
    "MAE= round(metrics.mean_absolute_error(y_test, y_pred),3)\n",
    "R2_Score= round(metrics.r2_score(y_test, y_pred),3)\n",
    "RMSE= round(np.sqrt(mean_squared_error(y_test, y_pred)),3)\n",
    "RMSLE= round(np.log(np.sqrt(metrics.mean_squared_error(y_test, y_pred))),3)"
   ]
  },
  {
   "cell_type": "code",
   "execution_count": 42,
   "id": "fe0c8d1c",
   "metadata": {},
   "outputs": [
    {
     "data": {
      "text/html": [
       "<div>\n",
       "<style scoped>\n",
       "    .dataframe tbody tr th:only-of-type {\n",
       "        vertical-align: middle;\n",
       "    }\n",
       "\n",
       "    .dataframe tbody tr th {\n",
       "        vertical-align: top;\n",
       "    }\n",
       "\n",
       "    .dataframe thead th {\n",
       "        text-align: right;\n",
       "    }\n",
       "</style>\n",
       "<table border=\"1\" class=\"dataframe\">\n",
       "  <thead>\n",
       "    <tr style=\"text-align: right;\">\n",
       "      <th></th>\n",
       "      <th>Model</th>\n",
       "      <th>MSE</th>\n",
       "      <th>MAE</th>\n",
       "      <th>R2_Score</th>\n",
       "      <th>RMSE</th>\n",
       "      <th>RMSLE</th>\n",
       "    </tr>\n",
       "  </thead>\n",
       "  <tbody>\n",
       "    <tr>\n",
       "      <th>0</th>\n",
       "      <td>Decision Tree</td>\n",
       "      <td>1.012974e+07</td>\n",
       "      <td>1083.511</td>\n",
       "      <td>0.98</td>\n",
       "      <td>3182.725</td>\n",
       "      <td>8.065</td>\n",
       "    </tr>\n",
       "  </tbody>\n",
       "</table>\n",
       "</div>"
      ],
      "text/plain": [
       "           Model           MSE       MAE  R2_Score      RMSE  RMSLE\n",
       "0  Decision Tree  1.012974e+07  1083.511      0.98  3182.725  8.065"
      ]
     },
     "execution_count": 42,
     "metadata": {},
     "output_type": "execute_result"
    }
   ],
   "source": [
    "Results_DecisionTree = pd.DataFrame([['Decision Tree', MSE , MAE, R2_Score , RMSE, RMSLE]],\n",
    "               columns = ['Model', 'MSE', 'MAE', 'R2_Score' , 'RMSE', 'RMSLE'])\n",
    "Results_DecisionTree"
   ]
  },
  {
   "cell_type": "markdown",
   "id": "ef73594c",
   "metadata": {},
   "source": [
    "**K-Nearest Neighbors**"
   ]
  },
  {
   "cell_type": "code",
   "execution_count": 43,
   "id": "42a9c0cb",
   "metadata": {},
   "outputs": [],
   "source": [
    "from sklearn.neighbors import KNeighborsRegressor"
   ]
  },
  {
   "cell_type": "code",
   "execution_count": 44,
   "id": "8d765f4b",
   "metadata": {},
   "outputs": [
    {
     "data": {
      "text/plain": [
       "KNeighborsRegressor()"
      ]
     },
     "execution_count": 44,
     "metadata": {},
     "output_type": "execute_result"
    }
   ],
   "source": [
    "knn = KNeighborsRegressor()\n",
    "knn.fit(X_train_transformed, y_train)"
   ]
  },
  {
   "cell_type": "code",
   "execution_count": 45,
   "id": "0b485581",
   "metadata": {},
   "outputs": [
    {
     "data": {
      "text/plain": [
       "array([34746.8, 19490.6,  5846. , ...,  4552.4,  5181. ,  5808.8])"
      ]
     },
     "execution_count": 45,
     "metadata": {},
     "output_type": "execute_result"
    }
   ],
   "source": [
    "y_pred =knn.predict(X_test_transformed)\n",
    "y_pred"
   ]
  },
  {
   "cell_type": "code",
   "execution_count": 46,
   "id": "d993612d",
   "metadata": {},
   "outputs": [
    {
     "name": "stdout",
     "output_type": "stream",
     "text": [
      "Predicted 1-5: [34746.8 19490.6  5846.  54608.   6291.8]\n",
      "Actual 1-5: [44652  7488  4792 54608  4298]\n"
     ]
    }
   ],
   "source": [
    "print(\"Predicted 1-5:\", y_pred[0:5])\n",
    "print(\"Actual 1-5:\", y_test[0:5])"
   ]
  },
  {
   "cell_type": "code",
   "execution_count": 47,
   "id": "74c9a4b9",
   "metadata": {},
   "outputs": [
    {
     "name": "stdout",
     "output_type": "stream",
     "text": [
      "Mean_Squared_Error(MSE):  135864017.995\n",
      "Mean_Absolute_Error(MEA): 7265.793\n",
      "R2_Score: 0.735\n",
      "RMSE: 11656.072\n",
      "Root_Mean_Squared_Log_Error(RMSLE): 9.364\n"
     ]
    }
   ],
   "source": [
    "from sklearn import metrics\n",
    "from sklearn.metrics import mean_squared_error, r2_score\n",
    "\n",
    "# MSE (Mean Squared Error):\n",
    "print(\"Mean_Squared_Error(MSE): \" , round(mean_squared_error(y_test, y_pred),3))\n",
    "\n",
    "# Mean_Absolute_Error (MAE)\n",
    "print('Mean_Absolute_Error(MEA):', round(metrics.mean_absolute_error(y_test, y_pred),3))  \n",
    "\n",
    "# R2_score \n",
    "print('R2_Score:', round(metrics.r2_score(y_test, y_pred),3))\n",
    "\n",
    "#R_squared = r2_score(y_test, y_pred)\n",
    "#print(R_squared)\n",
    "\n",
    "# RMSE (Root Mean Squared Error):\n",
    "RMSE = round(np.sqrt(mean_squared_error(y_test, y_pred)),3)\n",
    "print('RMSE:', RMSE)\n",
    "\n",
    "# Root_ Mean_Squared_Log_Error(RMSLE)\n",
    "print('Root_Mean_Squared_Log_Error(RMSLE):', round(np.log(np.sqrt(metrics.mean_squared_error(y_test, y_pred))),3))"
   ]
  },
  {
   "cell_type": "code",
   "execution_count": 48,
   "id": "8c27a387",
   "metadata": {},
   "outputs": [],
   "source": [
    "MSE= round(mean_squared_error(y_test, y_pred),3)\n",
    "MAE= round(metrics.mean_absolute_error(y_test, y_pred),3)\n",
    "R2_Score= round(metrics.r2_score(y_test, y_pred),3)\n",
    "RMSE= round(np.sqrt(mean_squared_error(y_test, y_pred)),3)\n",
    "RMSLE= round(np.log(np.sqrt(metrics.mean_squared_error(y_test, y_pred))),3)"
   ]
  },
  {
   "cell_type": "code",
   "execution_count": 49,
   "id": "f201a0a2",
   "metadata": {},
   "outputs": [
    {
     "data": {
      "text/html": [
       "<div>\n",
       "<style scoped>\n",
       "    .dataframe tbody tr th:only-of-type {\n",
       "        vertical-align: middle;\n",
       "    }\n",
       "\n",
       "    .dataframe tbody tr th {\n",
       "        vertical-align: top;\n",
       "    }\n",
       "\n",
       "    .dataframe thead th {\n",
       "        text-align: right;\n",
       "    }\n",
       "</style>\n",
       "<table border=\"1\" class=\"dataframe\">\n",
       "  <thead>\n",
       "    <tr style=\"text-align: right;\">\n",
       "      <th></th>\n",
       "      <th>Model</th>\n",
       "      <th>MSE</th>\n",
       "      <th>MAE</th>\n",
       "      <th>R2_Score</th>\n",
       "      <th>RMSE</th>\n",
       "      <th>RMSLE</th>\n",
       "    </tr>\n",
       "  </thead>\n",
       "  <tbody>\n",
       "    <tr>\n",
       "      <th>0</th>\n",
       "      <td>KNN</td>\n",
       "      <td>1.358640e+08</td>\n",
       "      <td>7265.793</td>\n",
       "      <td>0.735</td>\n",
       "      <td>11656.072</td>\n",
       "      <td>9.364</td>\n",
       "    </tr>\n",
       "  </tbody>\n",
       "</table>\n",
       "</div>"
      ],
      "text/plain": [
       "  Model           MSE       MAE  R2_Score       RMSE  RMSLE\n",
       "0   KNN  1.358640e+08  7265.793     0.735  11656.072  9.364"
      ]
     },
     "execution_count": 49,
     "metadata": {},
     "output_type": "execute_result"
    }
   ],
   "source": [
    "Results_KNN = pd.DataFrame([['KNN', MSE , MAE, R2_Score , RMSE, RMSLE]],\n",
    "               columns = ['Model', 'MSE', 'MAE', 'R2_Score' , 'RMSE', 'RMSLE'])\n",
    "Results_KNN"
   ]
  },
  {
   "cell_type": "markdown",
   "id": "91991b7e",
   "metadata": {},
   "source": [
    "**SGDRegressor**"
   ]
  },
  {
   "cell_type": "code",
   "execution_count": 50,
   "id": "c8e7a5b7",
   "metadata": {},
   "outputs": [],
   "source": [
    "from sklearn.linear_model import SGDRegressor"
   ]
  },
  {
   "cell_type": "code",
   "execution_count": 51,
   "id": "f3d4c06c",
   "metadata": {},
   "outputs": [
    {
     "data": {
      "text/plain": [
       "SGDRegressor()"
      ]
     },
     "execution_count": 51,
     "metadata": {},
     "output_type": "execute_result"
    }
   ],
   "source": [
    "SGD = SGDRegressor()\n",
    "SGD.fit(X_train_transformed, y_train)"
   ]
  },
  {
   "cell_type": "code",
   "execution_count": 52,
   "id": "94965ff3",
   "metadata": {},
   "outputs": [
    {
     "data": {
      "text/plain": [
       "array([48309.21820317, 10366.69601473,  8362.69874028, ...,\n",
       "        4685.45371063,  6654.24307465,  9791.91586932])"
      ]
     },
     "execution_count": 52,
     "metadata": {},
     "output_type": "execute_result"
    }
   ],
   "source": [
    "y_pred =SGD.predict(X_test_transformed)\n",
    "y_pred"
   ]
  },
  {
   "cell_type": "code",
   "execution_count": 53,
   "id": "a26c3b0d",
   "metadata": {},
   "outputs": [
    {
     "name": "stdout",
     "output_type": "stream",
     "text": [
      "Predicted 1-5: [48309.21820317 10366.69601473  8362.69874028 52548.05876093\n",
      "  5482.2384845 ]\n",
      "Actual 1-5: [44652  7488  4792 54608  4298]\n"
     ]
    }
   ],
   "source": [
    "print(\"Predicted 1-5:\", y_pred[0:5])\n",
    "print(\"Actual 1-5:\", y_test[0:5])"
   ]
  },
  {
   "cell_type": "code",
   "execution_count": 54,
   "id": "4ed4173e",
   "metadata": {},
   "outputs": [
    {
     "name": "stdout",
     "output_type": "stream",
     "text": [
      "Mean_Squared_Error(MSE):  43691850.872\n",
      "Mean_Absolute_Error(MEA): 4452.87\n",
      "R2_Score: 0.915\n",
      "RMSE: 6609.981\n",
      "Root_Mean_Squared_Log_Error(RMSLE): 8.796\n"
     ]
    }
   ],
   "source": [
    "from sklearn import metrics\n",
    "from sklearn.metrics import mean_squared_error, r2_score\n",
    "\n",
    "# MSE (Mean Squared Error):\n",
    "print(\"Mean_Squared_Error(MSE): \" , round(mean_squared_error(y_test, y_pred),3))\n",
    "\n",
    "# Mean_Absolute_Error (MAE)\n",
    "print('Mean_Absolute_Error(MEA):', round(metrics.mean_absolute_error(y_test, y_pred),3))  \n",
    "\n",
    "# R2_score \n",
    "print('R2_Score:', round(metrics.r2_score(y_test, y_pred),3))\n",
    "\n",
    "#R_squared = r2_score(y_test, y_pred)\n",
    "#print(R_squared)\n",
    "\n",
    "# RMSE (Root Mean Squared Error):\n",
    "RMSE = round(np.sqrt(mean_squared_error(y_test, y_pred)),3)\n",
    "print('RMSE:', RMSE)\n",
    "\n",
    "# Root_ Mean_Squared_Log_Error(RMSLE)\n",
    "print('Root_Mean_Squared_Log_Error(RMSLE):', round(np.log(np.sqrt(metrics.mean_squared_error(y_test, y_pred))),3))"
   ]
  },
  {
   "cell_type": "code",
   "execution_count": 55,
   "id": "e3510508",
   "metadata": {},
   "outputs": [],
   "source": [
    "MSE= round(mean_squared_error(y_test, y_pred),3)\n",
    "MAE= round(metrics.mean_absolute_error(y_test, y_pred),3)\n",
    "R2_Score= round(metrics.r2_score(y_test, y_pred),3)\n",
    "RMSE= round(np.sqrt(mean_squared_error(y_test, y_pred)),3)\n",
    "RMSLE= round(np.log(np.sqrt(metrics.mean_squared_error(y_test, y_pred))),3)"
   ]
  },
  {
   "cell_type": "code",
   "execution_count": 56,
   "id": "18293e96",
   "metadata": {},
   "outputs": [
    {
     "data": {
      "text/html": [
       "<div>\n",
       "<style scoped>\n",
       "    .dataframe tbody tr th:only-of-type {\n",
       "        vertical-align: middle;\n",
       "    }\n",
       "\n",
       "    .dataframe tbody tr th {\n",
       "        vertical-align: top;\n",
       "    }\n",
       "\n",
       "    .dataframe thead th {\n",
       "        text-align: right;\n",
       "    }\n",
       "</style>\n",
       "<table border=\"1\" class=\"dataframe\">\n",
       "  <thead>\n",
       "    <tr style=\"text-align: right;\">\n",
       "      <th></th>\n",
       "      <th>Model</th>\n",
       "      <th>MSE</th>\n",
       "      <th>MAE</th>\n",
       "      <th>R2_Score</th>\n",
       "      <th>RMSE</th>\n",
       "      <th>RMSLE</th>\n",
       "    </tr>\n",
       "  </thead>\n",
       "  <tbody>\n",
       "    <tr>\n",
       "      <th>0</th>\n",
       "      <td>SGD</td>\n",
       "      <td>4.369185e+07</td>\n",
       "      <td>4452.87</td>\n",
       "      <td>0.915</td>\n",
       "      <td>6609.981</td>\n",
       "      <td>8.796</td>\n",
       "    </tr>\n",
       "  </tbody>\n",
       "</table>\n",
       "</div>"
      ],
      "text/plain": [
       "  Model           MSE      MAE  R2_Score      RMSE  RMSLE\n",
       "0   SGD  4.369185e+07  4452.87     0.915  6609.981  8.796"
      ]
     },
     "execution_count": 56,
     "metadata": {},
     "output_type": "execute_result"
    }
   ],
   "source": [
    "Results_SGD = pd.DataFrame([['SGD', MSE , MAE, R2_Score , RMSE, RMSLE]],\n",
    "               columns = ['Model', 'MSE', 'MAE', 'R2_Score' , 'RMSE', 'RMSLE'])\n",
    "Results_SGD"
   ]
  },
  {
   "cell_type": "code",
   "execution_count": null,
   "id": "711e41b8",
   "metadata": {},
   "outputs": [],
   "source": []
  },
  {
   "cell_type": "markdown",
   "id": "d76099df",
   "metadata": {},
   "source": [
    "**Ridge Regression**"
   ]
  },
  {
   "cell_type": "code",
   "execution_count": 57,
   "id": "9ff175a4",
   "metadata": {},
   "outputs": [],
   "source": [
    "from sklearn.linear_model import Ridge"
   ]
  },
  {
   "cell_type": "code",
   "execution_count": 58,
   "id": "0131515b",
   "metadata": {},
   "outputs": [
    {
     "data": {
      "text/plain": [
       "Ridge(alpha=0.01)"
      ]
     },
     "execution_count": 58,
     "metadata": {},
     "output_type": "execute_result"
    }
   ],
   "source": [
    "Ridge=Ridge(alpha=0.01)\n",
    "Ridge.fit(X_train_transformed, y_train)"
   ]
  },
  {
   "cell_type": "code",
   "execution_count": 59,
   "id": "e50f0c1d",
   "metadata": {},
   "outputs": [
    {
     "data": {
      "text/plain": [
       "array([48299.6498368 , 10616.9494092 ,  8817.69855285, ...,\n",
       "        5527.98004369,  6452.4363395 ,  9907.97057735])"
      ]
     },
     "execution_count": 59,
     "metadata": {},
     "output_type": "execute_result"
    }
   ],
   "source": [
    "y_pred =Ridge.predict(X_test_transformed)\n",
    "y_pred"
   ]
  },
  {
   "cell_type": "code",
   "execution_count": 60,
   "id": "06cb5325",
   "metadata": {},
   "outputs": [
    {
     "name": "stdout",
     "output_type": "stream",
     "text": [
      "Mean_Squared_Error(MSE):  43507279.408\n",
      "Mean_Absolute_Error(MEA): 4427.03\n",
      "R2_Score: 0.915\n",
      "RMSE: 6596.005\n",
      "Root_Mean_Squared_Log_Error(RMSLE): 8.794\n"
     ]
    }
   ],
   "source": [
    "from sklearn import metrics\n",
    "from sklearn.metrics import mean_squared_error, r2_score\n",
    "\n",
    "# MSE (Mean Squared Error):\n",
    "print(\"Mean_Squared_Error(MSE): \" , round(mean_squared_error(y_test, y_pred),3))\n",
    "\n",
    "# Mean_Absolute_Error (MAE)\n",
    "print('Mean_Absolute_Error(MEA):', round(metrics.mean_absolute_error(y_test, y_pred),3))  \n",
    "\n",
    "# R2_score \n",
    "print('R2_Score:', round(metrics.r2_score(y_test, y_pred),3))\n",
    "\n",
    "#R_squared = r2_score(y_test, y_pred)\n",
    "#print(R_squared)\n",
    "\n",
    "# RMSE (Root Mean Squared Error):\n",
    "RMSE = round(np.sqrt(mean_squared_error(y_test, y_pred)),3)\n",
    "print('RMSE:', RMSE)\n",
    "\n",
    "# Root_ Mean_Squared_Log_Error(RMSLE)\n",
    "print('Root_Mean_Squared_Log_Error(RMSLE):', round(np.log(np.sqrt(metrics.mean_squared_error(y_test, y_pred))),3))"
   ]
  },
  {
   "cell_type": "code",
   "execution_count": 61,
   "id": "8b2998df",
   "metadata": {},
   "outputs": [],
   "source": [
    "MSE= round(mean_squared_error(y_test, y_pred),3)\n",
    "MAE= round(metrics.mean_absolute_error(y_test, y_pred),3)\n",
    "R2_Score= round(metrics.r2_score(y_test, y_pred),3)\n",
    "RMSE= round(np.sqrt(mean_squared_error(y_test, y_pred)),3)\n",
    "RMSLE= round(np.log(np.sqrt(metrics.mean_squared_error(y_test, y_pred))),3)"
   ]
  },
  {
   "cell_type": "code",
   "execution_count": 62,
   "id": "0b213683",
   "metadata": {},
   "outputs": [
    {
     "data": {
      "text/html": [
       "<div>\n",
       "<style scoped>\n",
       "    .dataframe tbody tr th:only-of-type {\n",
       "        vertical-align: middle;\n",
       "    }\n",
       "\n",
       "    .dataframe tbody tr th {\n",
       "        vertical-align: top;\n",
       "    }\n",
       "\n",
       "    .dataframe thead th {\n",
       "        text-align: right;\n",
       "    }\n",
       "</style>\n",
       "<table border=\"1\" class=\"dataframe\">\n",
       "  <thead>\n",
       "    <tr style=\"text-align: right;\">\n",
       "      <th></th>\n",
       "      <th>Model</th>\n",
       "      <th>MSE</th>\n",
       "      <th>MAE</th>\n",
       "      <th>R2_Score</th>\n",
       "      <th>RMSE</th>\n",
       "      <th>RMSLE</th>\n",
       "    </tr>\n",
       "  </thead>\n",
       "  <tbody>\n",
       "    <tr>\n",
       "      <th>0</th>\n",
       "      <td>Ridge</td>\n",
       "      <td>4.350728e+07</td>\n",
       "      <td>4427.03</td>\n",
       "      <td>0.915</td>\n",
       "      <td>6596.005</td>\n",
       "      <td>8.794</td>\n",
       "    </tr>\n",
       "  </tbody>\n",
       "</table>\n",
       "</div>"
      ],
      "text/plain": [
       "   Model           MSE      MAE  R2_Score      RMSE  RMSLE\n",
       "0  Ridge  4.350728e+07  4427.03     0.915  6596.005  8.794"
      ]
     },
     "execution_count": 62,
     "metadata": {},
     "output_type": "execute_result"
    }
   ],
   "source": [
    "Results_Ridge = pd.DataFrame([['Ridge', MSE , MAE, R2_Score , RMSE, RMSLE]],\n",
    "               columns = ['Model', 'MSE', 'MAE', 'R2_Score' , 'RMSE', 'RMSLE'])\n",
    "Results_Ridge"
   ]
  },
  {
   "cell_type": "code",
   "execution_count": 63,
   "id": "7728311a",
   "metadata": {},
   "outputs": [
    {
     "data": {
      "image/png": "[encoded data removed]",
      "text/plain": [
       "<Figure size 432x288 with 1 Axes>"
      ]
     },
     "metadata": {
      "needs_background": "light"
     },
     "output_type": "display_data"
    }
   ],
   "source": [
    "# Ploting the learning curve:\n",
    "\n",
    "from sklearn.model_selection import learning_curve\n",
    "train_sizes, train_scores, test_scores = learning_curve(estimator=Ridge, X=X_train_transformed, y=y_train,\n",
    "                                                       cv=10, train_sizes=np.linspace(0.1, 1.0, 10), n_jobs=-1)\n",
    "\n",
    "\n",
    "\n",
    "# Calculate training and test mean and std\n",
    "\n",
    "train_mean = np.mean(train_scores, axis=1)\n",
    "train_std = np.std(train_scores, axis=1)\n",
    "test_mean = np.mean(test_scores, axis=1)\n",
    "test_std = np.std(test_scores, axis=1)\n",
    "\n",
    "# Plot the learning curve\n",
    "\n",
    "plt.plot(train_sizes, train_mean, color='blue', marker='o', markersize=5, label='Training Score')\n",
    "plt.fill_between(train_sizes, train_mean + train_std, train_mean - train_std, alpha=0.15, color='blue')\n",
    "\n",
    "plt.plot(train_sizes, test_mean, color='green', marker='o', markersize=5, label='Cross-Validation Score')\n",
    "plt.fill_between(train_sizes, test_mean + test_std, test_mean - test_std, alpha=0.15, color='green')\n",
    "\n",
    "plt.title('Ridge Regression Learning Curve ')\n",
    "plt.xlabel('Training Example', fontsize=12)\n",
    "plt.ylabel('Accuracy Score', fontsize=12)\n",
    "\n",
    "plt.legend(loc='upper center')\n",
    "plt.show()"
   ]
  },
  {
   "cell_type": "markdown",
   "id": "3e1f70c7",
   "metadata": {},
   "source": [
    "**Lasso Regression**\n"
   ]
  },
  {
   "cell_type": "code",
   "execution_count": 64,
   "id": "0d0d19cf",
   "metadata": {},
   "outputs": [],
   "source": [
    "from sklearn.linear_model import Lasso"
   ]
  },
  {
   "cell_type": "code",
   "execution_count": 65,
   "id": "2a7ec1fd",
   "metadata": {},
   "outputs": [
    {
     "data": {
      "text/plain": [
       "Lasso()"
      ]
     },
     "execution_count": 65,
     "metadata": {},
     "output_type": "execute_result"
    }
   ],
   "source": [
    "Lasso=Lasso()\n",
    "Lasso.fit(X_train_transformed, y_train)"
   ]
  },
  {
   "cell_type": "code",
   "execution_count": 66,
   "id": "b9e1c96b",
   "metadata": {},
   "outputs": [
    {
     "data": {
      "text/plain": [
       "array([48374.51748608, 10683.21916122,  8179.3751691 , ...,\n",
       "        4368.2589903 ,  6181.48729497,  9067.35869302])"
      ]
     },
     "execution_count": 66,
     "metadata": {},
     "output_type": "execute_result"
    }
   ],
   "source": [
    "y_pred =Lasso.predict(X_test_transformed)\n",
    "y_pred"
   ]
  },
  {
   "cell_type": "code",
   "execution_count": 67,
   "id": "d151e888",
   "metadata": {},
   "outputs": [
    {
     "name": "stdout",
     "output_type": "stream",
     "text": [
      "Mean_Squared_Error(MSE):  43718757.094\n",
      "Mean_Absolute_Error(MEA): 4399.206\n",
      "R2_Score: 0.915\n",
      "RMSE: 6612.016\n",
      "Root_Mean_Squared_Log_Error(RMSLE): 8.797\n"
     ]
    }
   ],
   "source": [
    "from sklearn import metrics\n",
    "from sklearn.metrics import mean_squared_error, r2_score\n",
    "\n",
    "# MSE (Mean Squared Error):\n",
    "print(\"Mean_Squared_Error(MSE): \" , round(mean_squared_error(y_test, y_pred),3))\n",
    "\n",
    "# Mean_Absolute_Error (MAE)\n",
    "print('Mean_Absolute_Error(MEA):', round(metrics.mean_absolute_error(y_test, y_pred),3))  \n",
    "\n",
    "# R2_score \n",
    "print('R2_Score:', round(metrics.r2_score(y_test, y_pred),3))\n",
    "\n",
    "#R_squared = r2_score(y_test, y_pred)\n",
    "#print(R_squared)\n",
    "\n",
    "# RMSE (Root Mean Squared Error):\n",
    "RMSE = round(np.sqrt(mean_squared_error(y_test, y_pred)),3)\n",
    "print('RMSE:', RMSE)\n",
    "\n",
    "# Root_ Mean_Squared_Log_Error(RMSLE)\n",
    "print('Root_Mean_Squared_Log_Error(RMSLE):', round(np.log(np.sqrt(metrics.mean_squared_error(y_test, y_pred))),3))"
   ]
  },
  {
   "cell_type": "code",
   "execution_count": 68,
   "id": "ce3b1e8d",
   "metadata": {},
   "outputs": [],
   "source": [
    "MSE= round(mean_squared_error(y_test, y_pred),3)\n",
    "MAE= round(metrics.mean_absolute_error(y_test, y_pred),3)\n",
    "R2_Score= round(metrics.r2_score(y_test, y_pred),3)\n",
    "RMSE= round(np.sqrt(mean_squared_error(y_test, y_pred)),3)\n",
    "RMSLE= round(np.log(np.sqrt(metrics.mean_squared_error(y_test, y_pred))),3)"
   ]
  },
  {
   "cell_type": "code",
   "execution_count": 69,
   "id": "201a2f15",
   "metadata": {},
   "outputs": [
    {
     "data": {
      "text/html": [
       "<div>\n",
       "<style scoped>\n",
       "    .dataframe tbody tr th:only-of-type {\n",
       "        vertical-align: middle;\n",
       "    }\n",
       "\n",
       "    .dataframe tbody tr th {\n",
       "        vertical-align: top;\n",
       "    }\n",
       "\n",
       "    .dataframe thead th {\n",
       "        text-align: right;\n",
       "    }\n",
       "</style>\n",
       "<table border=\"1\" class=\"dataframe\">\n",
       "  <thead>\n",
       "    <tr style=\"text-align: right;\">\n",
       "      <th></th>\n",
       "      <th>Model</th>\n",
       "      <th>MSE</th>\n",
       "      <th>MAE</th>\n",
       "      <th>R2_Score</th>\n",
       "      <th>RMSE</th>\n",
       "      <th>RMSLE</th>\n",
       "    </tr>\n",
       "  </thead>\n",
       "  <tbody>\n",
       "    <tr>\n",
       "      <th>0</th>\n",
       "      <td>Lasso</td>\n",
       "      <td>4.371876e+07</td>\n",
       "      <td>4399.206</td>\n",
       "      <td>0.915</td>\n",
       "      <td>6612.016</td>\n",
       "      <td>8.797</td>\n",
       "    </tr>\n",
       "  </tbody>\n",
       "</table>\n",
       "</div>"
      ],
      "text/plain": [
       "   Model           MSE       MAE  R2_Score      RMSE  RMSLE\n",
       "0  Lasso  4.371876e+07  4399.206     0.915  6612.016  8.797"
      ]
     },
     "execution_count": 69,
     "metadata": {},
     "output_type": "execute_result"
    }
   ],
   "source": [
    "Results_Lasso = pd.DataFrame([['Lasso', MSE , MAE, R2_Score , RMSE, RMSLE]],\n",
    "               columns = ['Model', 'MSE', 'MAE', 'R2_Score' , 'RMSE', 'RMSLE'])\n",
    "Results_Lasso"
   ]
  },
  {
   "cell_type": "code",
   "execution_count": 70,
   "id": "966bfad6",
   "metadata": {},
   "outputs": [
    {
     "data": {
      "image/png": "[encoded data removed]",
      "text/plain": [
       "<Figure size 432x288 with 1 Axes>"
      ]
     },
     "metadata": {
      "needs_background": "light"
     },
     "output_type": "display_data"
    }
   ],
   "source": [
    "# Ploting the learning curve:\n",
    "\n",
    "from sklearn.model_selection import learning_curve\n",
    "train_sizes, train_scores, test_scores = learning_curve(estimator=Lasso, X=X_train_transformed, y=y_train,\n",
    "                                                       cv=10, train_sizes=np.linspace(0.1, 1.0, 10), n_jobs=-1)\n",
    "\n",
    "\n",
    "\n",
    "# Calculate training and test mean and std\n",
    "\n",
    "train_mean = np.mean(train_scores, axis=1)\n",
    "train_std = np.std(train_scores, axis=1)\n",
    "test_mean = np.mean(test_scores, axis=1)\n",
    "test_std = np.std(test_scores, axis=1)\n",
    "\n",
    "# Plot the learning curve\n",
    "\n",
    "plt.plot(train_sizes, train_mean, color='blue', marker='o', markersize=5, label='Training Score')\n",
    "plt.fill_between(train_sizes, train_mean + train_std, train_mean - train_std, alpha=0.15, color='blue')\n",
    "\n",
    "plt.plot(train_sizes, test_mean, color='green', marker='o', markersize=5, label='Cross-Validation Score')\n",
    "plt.fill_between(train_sizes, test_mean + test_std, test_mean - test_std, alpha=0.15, color='green')\n",
    "\n",
    "plt.title('Lasso Regression Learning Curve ')\n",
    "plt.xlabel('Training Example', fontsize=12)\n",
    "plt.ylabel('Accuracy Score', fontsize=12)\n",
    "\n",
    "plt.legend(loc='upper center')\n",
    "plt.show()"
   ]
  },
  {
   "cell_type": "markdown",
   "id": "eda1e4bd",
   "metadata": {},
   "source": [
    "**Elastic Net Regression**"
   ]
  },
  {
   "cell_type": "code",
   "execution_count": 71,
   "id": "8092689d",
   "metadata": {},
   "outputs": [],
   "source": [
    "from sklearn.linear_model import ElasticNet"
   ]
  },
  {
   "cell_type": "code",
   "execution_count": 72,
   "id": "6558997b",
   "metadata": {},
   "outputs": [
    {
     "data": {
      "text/plain": [
       "ElasticNet()"
      ]
     },
     "execution_count": 72,
     "metadata": {},
     "output_type": "execute_result"
    }
   ],
   "source": [
    "enr = ElasticNet()\n",
    "enr.fit(X_train_transformed, y_train)"
   ]
  },
  {
   "cell_type": "code",
   "execution_count": 73,
   "id": "37298714",
   "metadata": {},
   "outputs": [
    {
     "data": {
      "text/plain": [
       "array([29514.85708638, 17551.00712783, 17580.48295363, ...,\n",
       "       14133.74731883, 16299.81772736, 17788.79563717])"
      ]
     },
     "execution_count": 73,
     "metadata": {},
     "output_type": "execute_result"
    }
   ],
   "source": [
    "y_pred =enr.predict(X_test_transformed)\n",
    "y_pred"
   ]
  },
  {
   "cell_type": "code",
   "execution_count": 74,
   "id": "b8dbafa7",
   "metadata": {},
   "outputs": [
    {
     "name": "stdout",
     "output_type": "stream",
     "text": [
      "Mean_Squared_Error(MSE):  270984519.078\n",
      "Mean_Absolute_Error(MEA): 13881.755\n",
      "R2_Score: 0.472\n",
      "RMSE: 16461.607\n",
      "Root_Mean_Squared_Log_Error(RMSLE): 9.709\n"
     ]
    }
   ],
   "source": [
    "from sklearn import metrics\n",
    "from sklearn.metrics import mean_squared_error, r2_score\n",
    "\n",
    "# MSE (Mean Squared Error):\n",
    "print(\"Mean_Squared_Error(MSE): \" , round(mean_squared_error(y_test, y_pred),3))\n",
    "\n",
    "# Mean_Absolute_Error (MAE)\n",
    "print('Mean_Absolute_Error(MEA):', round(metrics.mean_absolute_error(y_test, y_pred),3))  \n",
    "\n",
    "# R2_score \n",
    "print('R2_Score:', round(metrics.r2_score(y_test, y_pred),3))\n",
    "\n",
    "#R_squared = r2_score(y_test, y_pred)\n",
    "#print(R_squared)\n",
    "\n",
    "# RMSE (Root Mean Squared Error):\n",
    "RMSE = round(np.sqrt(mean_squared_error(y_test, y_pred)),3)\n",
    "print('RMSE:', RMSE)\n",
    "\n",
    "# Root_ Mean_Squared_Log_Error(RMSLE)\n",
    "print('Root_Mean_Squared_Log_Error(RMSLE):', round(np.log(np.sqrt(metrics.mean_squared_error(y_test, y_pred))),3))"
   ]
  },
  {
   "cell_type": "code",
   "execution_count": 75,
   "id": "71293c25",
   "metadata": {},
   "outputs": [],
   "source": [
    "MSE= round(mean_squared_error(y_test, y_pred),3)\n",
    "MAE= round(metrics.mean_absolute_error(y_test, y_pred),3)\n",
    "R2_Score= round(metrics.r2_score(y_test, y_pred),3)\n",
    "RMSE= round(np.sqrt(mean_squared_error(y_test, y_pred)),3)\n",
    "RMSLE= round(np.log(np.sqrt(metrics.mean_squared_error(y_test, y_pred))),3)"
   ]
  },
  {
   "cell_type": "code",
   "execution_count": 76,
   "id": "49bc340c",
   "metadata": {},
   "outputs": [
    {
     "data": {
      "text/html": [
       "<div>\n",
       "<style scoped>\n",
       "    .dataframe tbody tr th:only-of-type {\n",
       "        vertical-align: middle;\n",
       "    }\n",
       "\n",
       "    .dataframe tbody tr th {\n",
       "        vertical-align: top;\n",
       "    }\n",
       "\n",
       "    .dataframe thead th {\n",
       "        text-align: right;\n",
       "    }\n",
       "</style>\n",
       "<table border=\"1\" class=\"dataframe\">\n",
       "  <thead>\n",
       "    <tr style=\"text-align: right;\">\n",
       "      <th></th>\n",
       "      <th>Model</th>\n",
       "      <th>MSE</th>\n",
       "      <th>MAE</th>\n",
       "      <th>R2_Score</th>\n",
       "      <th>RMSE</th>\n",
       "      <th>RMSLE</th>\n",
       "    </tr>\n",
       "  </thead>\n",
       "  <tbody>\n",
       "    <tr>\n",
       "      <th>0</th>\n",
       "      <td>ElasticNet</td>\n",
       "      <td>2.709845e+08</td>\n",
       "      <td>13881.755</td>\n",
       "      <td>0.472</td>\n",
       "      <td>16461.607</td>\n",
       "      <td>9.709</td>\n",
       "    </tr>\n",
       "  </tbody>\n",
       "</table>\n",
       "</div>"
      ],
      "text/plain": [
       "        Model           MSE        MAE  R2_Score       RMSE  RMSLE\n",
       "0  ElasticNet  2.709845e+08  13881.755     0.472  16461.607  9.709"
      ]
     },
     "execution_count": 76,
     "metadata": {},
     "output_type": "execute_result"
    }
   ],
   "source": [
    "Results_ElasticNet = pd.DataFrame([['ElasticNet', MSE , MAE, R2_Score , RMSE, RMSLE]],\n",
    "               columns = ['Model', 'MSE', 'MAE', 'R2_Score' , 'RMSE', 'RMSLE'])\n",
    "Results_ElasticNet"
   ]
  },
  {
   "cell_type": "code",
   "execution_count": 77,
   "id": "53ba9bc3",
   "metadata": {},
   "outputs": [
    {
     "data": {
      "image/png": "[encoded data removed]",
      "text/plain": [
       "<Figure size 432x288 with 1 Axes>"
      ]
     },
     "metadata": {
      "needs_background": "light"
     },
     "output_type": "display_data"
    }
   ],
   "source": [
    "# Ploting the learning curve:\n",
    "\n",
    "from sklearn.model_selection import learning_curve\n",
    "train_sizes, train_scores, test_scores = learning_curve(estimator=enr, X=X_train_transformed, y=y_train,\n",
    "                                                       cv=10, train_sizes=np.linspace(0.1, 1.0, 10), n_jobs=-1)\n",
    "\n",
    "\n",
    "\n",
    "# Calculate training and test mean and std\n",
    "\n",
    "train_mean = np.mean(train_scores, axis=1)\n",
    "train_std = np.std(train_scores, axis=1)\n",
    "test_mean = np.mean(test_scores, axis=1)\n",
    "test_std = np.std(test_scores, axis=1)\n",
    "\n",
    "# Plot the learning curve\n",
    "\n",
    "plt.plot(train_sizes, train_mean, color='blue', marker='o', markersize=5, label='Training Score')\n",
    "plt.fill_between(train_sizes, train_mean + train_std, train_mean - train_std, alpha=0.15, color='blue')\n",
    "\n",
    "plt.plot(train_sizes, test_mean, color='green', marker='o', markersize=5, label='Cross-Validation Score')\n",
    "plt.fill_between(train_sizes, test_mean + test_std, test_mean - test_std, alpha=0.15, color='green')\n",
    "\n",
    "plt.title('Elastic Net Regression Learning Curve ')\n",
    "plt.xlabel('Training Example', fontsize=12)\n",
    "plt.ylabel('Accuracy Score', fontsize=12)\n",
    "\n",
    "plt.legend(loc='upper center')\n",
    "plt.show()"
   ]
  },
  {
   "cell_type": "markdown",
   "id": "7cc105be",
   "metadata": {},
   "source": [
    "**Linear SVM Regression**"
   ]
  },
  {
   "cell_type": "code",
   "execution_count": 78,
   "id": "5e358fd8",
   "metadata": {},
   "outputs": [],
   "source": [
    "from sklearn.svm import LinearSVR"
   ]
  },
  {
   "cell_type": "code",
   "execution_count": 79,
   "id": "d50c54d9",
   "metadata": {},
   "outputs": [
    {
     "data": {
      "text/plain": [
       "LinearSVR(epsilon=0.3)"
      ]
     },
     "execution_count": 79,
     "metadata": {},
     "output_type": "execute_result"
    }
   ],
   "source": [
    "svm_reg = LinearSVR(epsilon = 0.3)\n",
    "svm_reg.fit(X_train_transformed, y_train)"
   ]
  },
  {
   "cell_type": "code",
   "execution_count": 80,
   "id": "7d8ff3b8",
   "metadata": {},
   "outputs": [
    {
     "data": {
      "text/plain": [
       "array([39440.835415  ,  8375.07087671,  7391.58335652, ...,\n",
       "        1231.881662  ,  9527.35618714, 11031.19026083])"
      ]
     },
     "execution_count": 80,
     "metadata": {},
     "output_type": "execute_result"
    }
   ],
   "source": [
    "y_pred =svm_reg.predict(X_test_transformed)\n",
    "y_pred"
   ]
  },
  {
   "cell_type": "code",
   "execution_count": 81,
   "id": "a4e9a0e0",
   "metadata": {},
   "outputs": [
    {
     "name": "stdout",
     "output_type": "stream",
     "text": [
      "Mean_Squared_Error(MSE):  115863258.036\n",
      "Mean_Absolute_Error(MEA): 6968.338\n",
      "R2_Score: 0.774\n",
      "RMSE: 10763.98\n",
      "Root_Mean_Squared_Log_Error(RMSLE): 9.284\n"
     ]
    }
   ],
   "source": [
    "from sklearn import metrics\n",
    "from sklearn.metrics import mean_squared_error, r2_score\n",
    "\n",
    "# MSE (Mean Squared Error):\n",
    "print(\"Mean_Squared_Error(MSE): \" , round(mean_squared_error(y_test, y_pred),3))\n",
    "\n",
    "# Mean_Absolute_Error (MAE)\n",
    "print('Mean_Absolute_Error(MEA):', round(metrics.mean_absolute_error(y_test, y_pred),3))  \n",
    "\n",
    "# R2_score \n",
    "print('R2_Score:', round(metrics.r2_score(y_test, y_pred),3))\n",
    "\n",
    "#R_squared = r2_score(y_test, y_pred)\n",
    "#print(R_squared)\n",
    "\n",
    "# RMSE (Root Mean Squared Error):\n",
    "RMSE = round(np.sqrt(mean_squared_error(y_test, y_pred)),3)\n",
    "print('RMSE:', RMSE)\n",
    "\n",
    "# Root_ Mean_Squared_Log_Error(RMSLE)\n",
    "print('Root_Mean_Squared_Log_Error(RMSLE):', round(np.log(np.sqrt(metrics.mean_squared_error(y_test, y_pred))),3))"
   ]
  },
  {
   "cell_type": "code",
   "execution_count": 82,
   "id": "f390be27",
   "metadata": {},
   "outputs": [],
   "source": [
    "MSE= round(mean_squared_error(y_test, y_pred),3)\n",
    "MAE= round(metrics.mean_absolute_error(y_test, y_pred),3)\n",
    "R2_Score= round(metrics.r2_score(y_test, y_pred),3)\n",
    "RMSE= round(np.sqrt(mean_squared_error(y_test, y_pred)),3)\n",
    "RMSLE= round(np.log(np.sqrt(metrics.mean_squared_error(y_test, y_pred))),3)"
   ]
  },
  {
   "cell_type": "code",
   "execution_count": 83,
   "id": "dc9e02f2",
   "metadata": {},
   "outputs": [
    {
     "data": {
      "text/html": [
       "<div>\n",
       "<style scoped>\n",
       "    .dataframe tbody tr th:only-of-type {\n",
       "        vertical-align: middle;\n",
       "    }\n",
       "\n",
       "    .dataframe tbody tr th {\n",
       "        vertical-align: top;\n",
       "    }\n",
       "\n",
       "    .dataframe thead th {\n",
       "        text-align: right;\n",
       "    }\n",
       "</style>\n",
       "<table border=\"1\" class=\"dataframe\">\n",
       "  <thead>\n",
       "    <tr style=\"text-align: right;\">\n",
       "      <th></th>\n",
       "      <th>Model</th>\n",
       "      <th>MSE</th>\n",
       "      <th>MAE</th>\n",
       "      <th>R2_Score</th>\n",
       "      <th>RMSE</th>\n",
       "      <th>RMSLE</th>\n",
       "    </tr>\n",
       "  </thead>\n",
       "  <tbody>\n",
       "    <tr>\n",
       "      <th>0</th>\n",
       "      <td>SVM</td>\n",
       "      <td>1.158633e+08</td>\n",
       "      <td>6968.338</td>\n",
       "      <td>0.774</td>\n",
       "      <td>10763.98</td>\n",
       "      <td>9.284</td>\n",
       "    </tr>\n",
       "  </tbody>\n",
       "</table>\n",
       "</div>"
      ],
      "text/plain": [
       "  Model           MSE       MAE  R2_Score      RMSE  RMSLE\n",
       "0   SVM  1.158633e+08  6968.338     0.774  10763.98  9.284"
      ]
     },
     "execution_count": 83,
     "metadata": {},
     "output_type": "execute_result"
    }
   ],
   "source": [
    "Results_svm_reg = pd.DataFrame([['SVM', MSE , MAE, R2_Score , RMSE, RMSLE]],\n",
    "               columns = ['Model', 'MSE', 'MAE', 'R2_Score' , 'RMSE', 'RMSLE'])\n",
    "Results_svm_reg"
   ]
  },
  {
   "cell_type": "code",
   "execution_count": 84,
   "id": "b5022083",
   "metadata": {},
   "outputs": [
    {
     "data": {
      "image/png": "[encoded data removed]",
      "text/plain": [
       "<Figure size 432x288 with 1 Axes>"
      ]
     },
     "metadata": {
      "needs_background": "light"
     },
     "output_type": "display_data"
    }
   ],
   "source": [
    "# Ploting the learning curve:\n",
    "\n",
    "from sklearn.model_selection import learning_curve\n",
    "train_sizes, train_scores, test_scores = learning_curve(estimator=svm_reg, X=X_train_transformed, y=y_train,\n",
    "                                                       cv=10, train_sizes=np.linspace(0.1, 1.0, 10), n_jobs=-1)\n",
    "\n",
    "\n",
    "\n",
    "# Calculate training and test mean and std\n",
    "\n",
    "train_mean = np.mean(train_scores, axis=1)\n",
    "train_std = np.std(train_scores, axis=1)\n",
    "test_mean = np.mean(test_scores, axis=1)\n",
    "test_std = np.std(test_scores, axis=1)\n",
    "\n",
    "# Plot the learning curve\n",
    "\n",
    "plt.plot(train_sizes, train_mean, color='blue', marker='o', markersize=5, label='Training Score')\n",
    "plt.fill_between(train_sizes, train_mean + train_std, train_mean - train_std, alpha=0.15, color='blue')\n",
    "\n",
    "plt.plot(train_sizes, test_mean, color='green', marker='o', markersize=5, label='Cross-Validation Score')\n",
    "plt.fill_between(train_sizes, test_mean + test_std, test_mean - test_std, alpha=0.15, color='green')\n",
    "\n",
    "plt.title('Linear SVM Regression Learning Curve ')\n",
    "plt.xlabel('Training Example', fontsize=12)\n",
    "plt.ylabel('Accuracy Score', fontsize=12)\n",
    "\n",
    "plt.legend(loc='upper center')\n",
    "plt.show()"
   ]
  },
  {
   "cell_type": "markdown",
   "id": "0edb691c",
   "metadata": {},
   "source": [
    "**Random Forest Regressor**"
   ]
  },
  {
   "cell_type": "code",
   "execution_count": 85,
   "id": "981d9c6f",
   "metadata": {},
   "outputs": [],
   "source": [
    "from sklearn.ensemble import RandomForestRegressor"
   ]
  },
  {
   "cell_type": "code",
   "execution_count": 86,
   "id": "125faadb",
   "metadata": {},
   "outputs": [
    {
     "data": {
      "text/plain": [
       "RandomForestRegressor(max_leaf_nodes=16, n_estimators=50, n_jobs=-1)"
      ]
     },
     "execution_count": 86,
     "metadata": {},
     "output_type": "execute_result"
    }
   ],
   "source": [
    "rnd=RandomForestRegressor(n_estimators=50, max_leaf_nodes=16, n_jobs=-1)\n",
    "rnd.fit(X_train_transformed, y_train)"
   ]
  },
  {
   "cell_type": "code",
   "execution_count": 87,
   "id": "308ed05a",
   "metadata": {},
   "outputs": [
    {
     "data": {
      "text/plain": [
       "array([27853.99115366,  6154.56923109,  7855.32709713, ...,\n",
       "        5964.16317412,  6154.56923109,  7855.32709713])"
      ]
     },
     "execution_count": 87,
     "metadata": {},
     "output_type": "execute_result"
    }
   ],
   "source": [
    "y_pred =rnd.predict(X_test_transformed)\n",
    "y_pred"
   ]
  },
  {
   "cell_type": "code",
   "execution_count": 88,
   "id": "22600251",
   "metadata": {},
   "outputs": [
    {
     "name": "stdout",
     "output_type": "stream",
     "text": [
      "Mean_Squared_Error(MSE):  32364065.26\n",
      "Mean_Absolute_Error(MEA): 3775.911\n",
      "R2_Score: 0.937\n",
      "RMSE: 5688.942\n",
      "Root_Mean_Squared_Log_Error(RMSLE): 8.646\n"
     ]
    }
   ],
   "source": [
    "from sklearn import metrics\n",
    "from sklearn.metrics import mean_squared_error, r2_score\n",
    "\n",
    "# MSE (Mean Squared Error):\n",
    "print(\"Mean_Squared_Error(MSE): \" , round(mean_squared_error(y_test, y_pred),3))\n",
    "\n",
    "# Mean_Absolute_Error (MAE)\n",
    "print('Mean_Absolute_Error(MEA):', round(metrics.mean_absolute_error(y_test, y_pred),3))  \n",
    "\n",
    "# R2_score \n",
    "print('R2_Score:', round(metrics.r2_score(y_test, y_pred),3))\n",
    "\n",
    "#R_squared = r2_score(y_test, y_pred)\n",
    "#print(R_squared)\n",
    "\n",
    "# RMSE (Root Mean Squared Error):\n",
    "RMSE = round(np.sqrt(mean_squared_error(y_test, y_pred)),3)\n",
    "print('RMSE:', RMSE)\n",
    "\n",
    "# Root_ Mean_Squared_Log_Error(RMSLE)\n",
    "print('Root_Mean_Squared_Log_Error(RMSLE):', round(np.log(np.sqrt(metrics.mean_squared_error(y_test, y_pred))),3))"
   ]
  },
  {
   "cell_type": "code",
   "execution_count": 89,
   "id": "d3b4ba8e",
   "metadata": {},
   "outputs": [],
   "source": [
    "MSE= round(mean_squared_error(y_test, y_pred),3)\n",
    "MAE= round(metrics.mean_absolute_error(y_test, y_pred),3)\n",
    "R2_Score= round(metrics.r2_score(y_test, y_pred),3)\n",
    "RMSE= round(np.sqrt(mean_squared_error(y_test, y_pred)),3)\n",
    "RMSLE= round(np.log(np.sqrt(metrics.mean_squared_error(y_test, y_pred))),3)"
   ]
  },
  {
   "cell_type": "code",
   "execution_count": 90,
   "id": "c2aeedfa",
   "metadata": {},
   "outputs": [
    {
     "data": {
      "text/html": [
       "<div>\n",
       "<style scoped>\n",
       "    .dataframe tbody tr th:only-of-type {\n",
       "        vertical-align: middle;\n",
       "    }\n",
       "\n",
       "    .dataframe tbody tr th {\n",
       "        vertical-align: top;\n",
       "    }\n",
       "\n",
       "    .dataframe thead th {\n",
       "        text-align: right;\n",
       "    }\n",
       "</style>\n",
       "<table border=\"1\" class=\"dataframe\">\n",
       "  <thead>\n",
       "    <tr style=\"text-align: right;\">\n",
       "      <th></th>\n",
       "      <th>Model</th>\n",
       "      <th>MSE</th>\n",
       "      <th>MAE</th>\n",
       "      <th>R2_Score</th>\n",
       "      <th>RMSE</th>\n",
       "      <th>RMSLE</th>\n",
       "    </tr>\n",
       "  </thead>\n",
       "  <tbody>\n",
       "    <tr>\n",
       "      <th>0</th>\n",
       "      <td>Random Forest</td>\n",
       "      <td>32364065.26</td>\n",
       "      <td>3775.911</td>\n",
       "      <td>0.937</td>\n",
       "      <td>5688.942</td>\n",
       "      <td>8.646</td>\n",
       "    </tr>\n",
       "  </tbody>\n",
       "</table>\n",
       "</div>"
      ],
      "text/plain": [
       "           Model          MSE       MAE  R2_Score      RMSE  RMSLE\n",
       "0  Random Forest  32364065.26  3775.911     0.937  5688.942  8.646"
      ]
     },
     "execution_count": 90,
     "metadata": {},
     "output_type": "execute_result"
    }
   ],
   "source": [
    "Results_RandomForestReg = pd.DataFrame([['Random Forest', MSE , MAE, R2_Score , RMSE, RMSLE]],\n",
    "               columns = ['Model', 'MSE', 'MAE', 'R2_Score' , 'RMSE', 'RMSLE'])\n",
    "Results_RandomForestReg"
   ]
  },
  {
   "cell_type": "code",
   "execution_count": null,
   "id": "91b73891",
   "metadata": {},
   "outputs": [],
   "source": []
  },
  {
   "cell_type": "markdown",
   "id": "f57f46a8",
   "metadata": {},
   "source": [
    "**Extra Trees Regressor**"
   ]
  },
  {
   "cell_type": "code",
   "execution_count": 92,
   "id": "daa21e21",
   "metadata": {},
   "outputs": [],
   "source": [
    "from sklearn.ensemble import ExtraTreesRegressor"
   ]
  },
  {
   "cell_type": "code",
   "execution_count": 93,
   "id": "66215b8c",
   "metadata": {},
   "outputs": [
    {
     "data": {
      "text/plain": [
       "ExtraTreesRegressor(max_leaf_nodes=16, n_estimators=10, n_jobs=-1)"
      ]
     },
     "execution_count": 93,
     "metadata": {},
     "output_type": "execute_result"
    }
   ],
   "source": [
    "extra_tree_reg=ExtraTreesRegressor(n_estimators=10, max_leaf_nodes=16, n_jobs=-1)\n",
    "extra_tree_reg.fit(X_train_transformed, y_train)"
   ]
  },
  {
   "cell_type": "code",
   "execution_count": 94,
   "id": "2fc004b2",
   "metadata": {},
   "outputs": [
    {
     "data": {
      "text/plain": [
       "array([27849.51918911,  6848.83875184,  7394.76491917, ...,\n",
       "        5219.87682969,  6235.77521354,  7394.76491917])"
      ]
     },
     "execution_count": 94,
     "metadata": {},
     "output_type": "execute_result"
    }
   ],
   "source": [
    "y_pred =extra_tree_reg.predict(X_test_transformed)\n",
    "y_pred"
   ]
  },
  {
   "cell_type": "code",
   "execution_count": 95,
   "id": "b709c15c",
   "metadata": {},
   "outputs": [
    {
     "name": "stdout",
     "output_type": "stream",
     "text": [
      "Mean_Squared_Error(MSE):  31937111.11\n",
      "Mean_Absolute_Error(MEA): 3738.396\n",
      "R2_Score: 0.938\n",
      "RMSE: 5651.293\n",
      "Root_Mean_Squared_Log_Error(RMSLE): 8.64\n"
     ]
    }
   ],
   "source": [
    "from sklearn import metrics\n",
    "from sklearn.metrics import mean_squared_error, r2_score\n",
    "\n",
    "# MSE (Mean Squared Error):\n",
    "print(\"Mean_Squared_Error(MSE): \" , round(mean_squared_error(y_test, y_pred),3))\n",
    "\n",
    "# Mean_Absolute_Error (MAE)\n",
    "print('Mean_Absolute_Error(MEA):', round(metrics.mean_absolute_error(y_test, y_pred),3))  \n",
    "\n",
    "# R2_score \n",
    "print('R2_Score:', round(metrics.r2_score(y_test, y_pred),3))\n",
    "\n",
    "#R_squared = r2_score(y_test, y_pred)\n",
    "#print(R_squared)\n",
    "\n",
    "# RMSE (Root Mean Squared Error):\n",
    "RMSE = round(np.sqrt(mean_squared_error(y_test, y_pred)),3)\n",
    "print('RMSE:', RMSE)\n",
    "\n",
    "# Root_ Mean_Squared_Log_Error(RMSLE)\n",
    "print('Root_Mean_Squared_Log_Error(RMSLE):', round(np.log(np.sqrt(metrics.mean_squared_error(y_test, y_pred))),3))"
   ]
  },
  {
   "cell_type": "code",
   "execution_count": 96,
   "id": "7eca0087",
   "metadata": {},
   "outputs": [],
   "source": [
    "MSE= round(mean_squared_error(y_test, y_pred),3)\n",
    "MAE= round(metrics.mean_absolute_error(y_test, y_pred),3)\n",
    "R2_Score= round(metrics.r2_score(y_test, y_pred),3)\n",
    "RMSE= round(np.sqrt(mean_squared_error(y_test, y_pred)),3)\n",
    "RMSLE= round(np.log(np.sqrt(metrics.mean_squared_error(y_test, y_pred))),3)"
   ]
  },
  {
   "cell_type": "code",
   "execution_count": 97,
   "id": "af29edd0",
   "metadata": {},
   "outputs": [
    {
     "data": {
      "text/html": [
       "<div>\n",
       "<style scoped>\n",
       "    .dataframe tbody tr th:only-of-type {\n",
       "        vertical-align: middle;\n",
       "    }\n",
       "\n",
       "    .dataframe tbody tr th {\n",
       "        vertical-align: top;\n",
       "    }\n",
       "\n",
       "    .dataframe thead th {\n",
       "        text-align: right;\n",
       "    }\n",
       "</style>\n",
       "<table border=\"1\" class=\"dataframe\">\n",
       "  <thead>\n",
       "    <tr style=\"text-align: right;\">\n",
       "      <th></th>\n",
       "      <th>Model</th>\n",
       "      <th>MSE</th>\n",
       "      <th>MAE</th>\n",
       "      <th>R2_Score</th>\n",
       "      <th>RMSE</th>\n",
       "      <th>RMSLE</th>\n",
       "    </tr>\n",
       "  </thead>\n",
       "  <tbody>\n",
       "    <tr>\n",
       "      <th>0</th>\n",
       "      <td>Extra Trees</td>\n",
       "      <td>31937111.11</td>\n",
       "      <td>3738.396</td>\n",
       "      <td>0.938</td>\n",
       "      <td>5651.293</td>\n",
       "      <td>8.64</td>\n",
       "    </tr>\n",
       "  </tbody>\n",
       "</table>\n",
       "</div>"
      ],
      "text/plain": [
       "         Model          MSE       MAE  R2_Score      RMSE  RMSLE\n",
       "0  Extra Trees  31937111.11  3738.396     0.938  5651.293   8.64"
      ]
     },
     "execution_count": 97,
     "metadata": {},
     "output_type": "execute_result"
    }
   ],
   "source": [
    "Results_ExtraTreesReg = pd.DataFrame([['Extra Trees', MSE , MAE, R2_Score , RMSE, RMSLE]],\n",
    "               columns = ['Model', 'MSE', 'MAE', 'R2_Score' , 'RMSE', 'RMSLE'])\n",
    "Results_ExtraTreesReg"
   ]
  },
  {
   "cell_type": "markdown",
   "id": "d707fead",
   "metadata": {},
   "source": [
    "**Gradient Boost Regression**"
   ]
  },
  {
   "cell_type": "code",
   "execution_count": 99,
   "id": "f5118f11",
   "metadata": {},
   "outputs": [],
   "source": [
    "from sklearn.ensemble import GradientBoostingRegressor"
   ]
  },
  {
   "cell_type": "code",
   "execution_count": 100,
   "id": "581425c8",
   "metadata": {},
   "outputs": [
    {
     "data": {
      "text/plain": [
       "GradientBoostingRegressor()"
      ]
     },
     "execution_count": 100,
     "metadata": {},
     "output_type": "execute_result"
    }
   ],
   "source": [
    "gbr = GradientBoostingRegressor(n_estimators=100)\n",
    "gbr.fit(X_train_transformed, y_train)"
   ]
  },
  {
   "cell_type": "code",
   "execution_count": 101,
   "id": "d2906dbf",
   "metadata": {},
   "outputs": [
    {
     "data": {
      "text/plain": [
       "array([30430.29769187,  8433.025683  ,  7562.36331901, ...,\n",
       "        5160.40663306,  6285.45917106,  7543.60544058])"
      ]
     },
     "execution_count": 101,
     "metadata": {},
     "output_type": "execute_result"
    }
   ],
   "source": [
    "y_pred =gbr.predict(X_test_transformed)\n",
    "y_pred"
   ]
  },
  {
   "cell_type": "code",
   "execution_count": 102,
   "id": "68af236a",
   "metadata": {},
   "outputs": [
    {
     "name": "stdout",
     "output_type": "stream",
     "text": [
      "Mean_Squared_Error(MSE):  28022821.993\n",
      "Mean_Absolute_Error(MEA): 3293.33\n",
      "R2_Score: 0.945\n",
      "RMSE: 5293.659\n",
      "Root_Mean_Squared_Log_Error(RMSLE): 8.574\n"
     ]
    }
   ],
   "source": [
    "from sklearn import metrics\n",
    "from sklearn.metrics import mean_squared_error, r2_score\n",
    "\n",
    "# MSE (Mean Squared Error):\n",
    "print(\"Mean_Squared_Error(MSE): \" , round(mean_squared_error(y_test, y_pred),3))\n",
    "\n",
    "# Mean_Absolute_Error (MAE)\n",
    "print('Mean_Absolute_Error(MEA):', round(metrics.mean_absolute_error(y_test, y_pred),3))  \n",
    "\n",
    "# R2_score \n",
    "print('R2_Score:', round(metrics.r2_score(y_test, y_pred),3))\n",
    "\n",
    "#R_squared = r2_score(y_test, y_pred)\n",
    "#print(R_squared)\n",
    "\n",
    "# RMSE (Root Mean Squared Error):\n",
    "RMSE = round(np.sqrt(mean_squared_error(y_test, y_pred)),3)\n",
    "print('RMSE:', RMSE)\n",
    "\n",
    "# Root_ Mean_Squared_Log_Error(RMSLE)\n",
    "print('Root_Mean_Squared_Log_Error(RMSLE):', round(np.log(np.sqrt(metrics.mean_squared_error(y_test, y_pred))),3))"
   ]
  },
  {
   "cell_type": "code",
   "execution_count": 103,
   "id": "64acd066",
   "metadata": {},
   "outputs": [],
   "source": [
    "MSE= round(mean_squared_error(y_test, y_pred),3)\n",
    "MAE= round(metrics.mean_absolute_error(y_test, y_pred),3)\n",
    "R2_Score= round(metrics.r2_score(y_test, y_pred),3)\n",
    "RMSE= round(np.sqrt(mean_squared_error(y_test, y_pred)),3)\n",
    "RMSLE= round(np.log(np.sqrt(metrics.mean_squared_error(y_test, y_pred))),3)"
   ]
  },
  {
   "cell_type": "code",
   "execution_count": 104,
   "id": "78438944",
   "metadata": {},
   "outputs": [
    {
     "data": {
      "text/html": [
       "<div>\n",
       "<style scoped>\n",
       "    .dataframe tbody tr th:only-of-type {\n",
       "        vertical-align: middle;\n",
       "    }\n",
       "\n",
       "    .dataframe tbody tr th {\n",
       "        vertical-align: top;\n",
       "    }\n",
       "\n",
       "    .dataframe thead th {\n",
       "        text-align: right;\n",
       "    }\n",
       "</style>\n",
       "<table border=\"1\" class=\"dataframe\">\n",
       "  <thead>\n",
       "    <tr style=\"text-align: right;\">\n",
       "      <th></th>\n",
       "      <th>Model</th>\n",
       "      <th>MSE</th>\n",
       "      <th>MAE</th>\n",
       "      <th>R2_Score</th>\n",
       "      <th>RMSE</th>\n",
       "      <th>RMSLE</th>\n",
       "    </tr>\n",
       "  </thead>\n",
       "  <tbody>\n",
       "    <tr>\n",
       "      <th>0</th>\n",
       "      <td>Gradient Boosting</td>\n",
       "      <td>2.802282e+07</td>\n",
       "      <td>3293.33</td>\n",
       "      <td>0.945</td>\n",
       "      <td>5293.659</td>\n",
       "      <td>8.574</td>\n",
       "    </tr>\n",
       "  </tbody>\n",
       "</table>\n",
       "</div>"
      ],
      "text/plain": [
       "               Model           MSE      MAE  R2_Score      RMSE  RMSLE\n",
       "0  Gradient Boosting  2.802282e+07  3293.33     0.945  5293.659  8.574"
      ]
     },
     "execution_count": 104,
     "metadata": {},
     "output_type": "execute_result"
    }
   ],
   "source": [
    "Results_GradientBoostingReg = pd.DataFrame([['Gradient Boosting', MSE , MAE, R2_Score , RMSE, RMSLE]],\n",
    "               columns = ['Model', 'MSE', 'MAE', 'R2_Score' , 'RMSE', 'RMSLE'])\n",
    "Results_GradientBoostingReg"
   ]
  },
  {
   "cell_type": "markdown",
   "id": "cb94d4cb",
   "metadata": {},
   "source": [
    "**XGBoost Regression**"
   ]
  },
  {
   "cell_type": "code",
   "execution_count": 105,
   "id": "988913d9",
   "metadata": {},
   "outputs": [
    {
     "name": "stdout",
     "output_type": "stream",
     "text": [
      "Requirement already satisfied: xgboost in c:\\users\\sahar\\anaconda3\\lib\\site-packages (1.6.2)\n",
      "Requirement already satisfied: scipy in c:\\users\\sahar\\anaconda3\\lib\\site-packages (from xgboost) (1.6.2)\n",
      "Requirement already satisfied: numpy in c:\\users\\sahar\\anaconda3\\lib\\site-packages (from xgboost) (1.20.1)\n",
      "Note: you may need to restart the kernel to use updated packages.\n"
     ]
    }
   ],
   "source": [
    "pip install xgboost"
   ]
  },
  {
   "cell_type": "code",
   "execution_count": 106,
   "id": "18a31d35",
   "metadata": {},
   "outputs": [],
   "source": [
    "from xgboost.sklearn import XGBRegressor"
   ]
  },
  {
   "cell_type": "code",
   "execution_count": 107,
   "id": "d5c35129",
   "metadata": {},
   "outputs": [
    {
     "data": {
      "text/plain": [
       "XGBRegressor(base_score=0.5, booster='gbtree', callbacks=None,\n",
       "             colsample_bylevel=1, colsample_bynode=1, colsample_bytree=1,\n",
       "             early_stopping_rounds=None, enable_categorical=False,\n",
       "             eval_metric=None, gamma=0, gpu_id=-1, grow_policy='depthwise',\n",
       "             importance_type=None, interaction_constraints='',\n",
       "             learning_rate=0.300000012, max_bin=256, max_cat_to_onehot=4,\n",
       "             max_delta_step=0, max_depth=6, max_leaves=0, min_child_weight=1,\n",
       "             missing=nan, monotone_constraints='()', n_estimators=100, n_jobs=0,\n",
       "             num_parallel_tree=1, predictor='auto', random_state=0, reg_alpha=0,\n",
       "             reg_lambda=1, ...)"
      ]
     },
     "execution_count": 107,
     "metadata": {},
     "output_type": "execute_result"
    }
   ],
   "source": [
    "xgbr = XGBRegressor()\n",
    "xgbr.fit(X_train_transformed, y_train)"
   ]
  },
  {
   "cell_type": "code",
   "execution_count": 108,
   "id": "188659f9",
   "metadata": {},
   "outputs": [
    {
     "data": {
      "text/plain": [
       "array([32980.9   ,  9571.811 ,  6809.4287, ...,  3395.9727,  6232.7773,\n",
       "        7175.193 ], dtype=float32)"
      ]
     },
     "execution_count": 108,
     "metadata": {},
     "output_type": "execute_result"
    }
   ],
   "source": [
    "y_pred =xgbr.predict(X_test_transformed)\n",
    "y_pred"
   ]
  },
  {
   "cell_type": "code",
   "execution_count": 109,
   "id": "5431e302",
   "metadata": {},
   "outputs": [
    {
     "name": "stdout",
     "output_type": "stream",
     "text": [
      "Mean_Squared_Error(MSE):  16498181.077\n",
      "Mean_Absolute_Error(MEA): 2426.163\n",
      "R2_Score: 0.968\n",
      "RMSE: 4061.795\n",
      "Root_Mean_Squared_Log_Error(RMSLE): 8.309\n"
     ]
    }
   ],
   "source": [
    "from sklearn import metrics\n",
    "from sklearn.metrics import mean_squared_error, r2_score\n",
    "\n",
    "# MSE (Mean Squared Error):\n",
    "print(\"Mean_Squared_Error(MSE): \" , round(mean_squared_error(y_test, y_pred),3))\n",
    "\n",
    "# Mean_Absolute_Error (MAE)\n",
    "print('Mean_Absolute_Error(MEA):', round(metrics.mean_absolute_error(y_test, y_pred),3))  \n",
    "\n",
    "# R2_score \n",
    "print('R2_Score:', round(metrics.r2_score(y_test, y_pred),3))\n",
    "\n",
    "#R_squared = r2_score(y_test, y_pred)\n",
    "#print(R_squared)\n",
    "\n",
    "# RMSE (Root Mean Squared Error):\n",
    "RMSE = round(np.sqrt(mean_squared_error(y_test, y_pred)),3)\n",
    "print('RMSE:', RMSE)\n",
    "\n",
    "# Root_ Mean_Squared_Log_Error(RMSLE)\n",
    "print('Root_Mean_Squared_Log_Error(RMSLE):', round(np.log(np.sqrt(metrics.mean_squared_error(y_test, y_pred))),3))\n"
   ]
  },
  {
   "cell_type": "code",
   "execution_count": 110,
   "id": "e3e5e6f5",
   "metadata": {},
   "outputs": [],
   "source": [
    "MSE= round(mean_squared_error(y_test, y_pred),3)\n",
    "MAE= round(metrics.mean_absolute_error(y_test, y_pred),3)\n",
    "R2_Score= round(metrics.r2_score(y_test, y_pred),3)\n",
    "RMSE= round(np.sqrt(mean_squared_error(y_test, y_pred)),3)\n",
    "RMSLE= round(np.log(np.sqrt(metrics.mean_squared_error(y_test, y_pred))),3)"
   ]
  },
  {
   "cell_type": "code",
   "execution_count": 111,
   "id": "35527f9c",
   "metadata": {},
   "outputs": [
    {
     "data": {
      "text/html": [
       "<div>\n",
       "<style scoped>\n",
       "    .dataframe tbody tr th:only-of-type {\n",
       "        vertical-align: middle;\n",
       "    }\n",
       "\n",
       "    .dataframe tbody tr th {\n",
       "        vertical-align: top;\n",
       "    }\n",
       "\n",
       "    .dataframe thead th {\n",
       "        text-align: right;\n",
       "    }\n",
       "</style>\n",
       "<table border=\"1\" class=\"dataframe\">\n",
       "  <thead>\n",
       "    <tr style=\"text-align: right;\">\n",
       "      <th></th>\n",
       "      <th>Model</th>\n",
       "      <th>MSE</th>\n",
       "      <th>MAE</th>\n",
       "      <th>R2_Score</th>\n",
       "      <th>RMSE</th>\n",
       "      <th>RMSLE</th>\n",
       "    </tr>\n",
       "  </thead>\n",
       "  <tbody>\n",
       "    <tr>\n",
       "      <th>0</th>\n",
       "      <td>XGradient Boosting</td>\n",
       "      <td>1.649818e+07</td>\n",
       "      <td>2426.163</td>\n",
       "      <td>0.968</td>\n",
       "      <td>4061.795</td>\n",
       "      <td>8.309</td>\n",
       "    </tr>\n",
       "  </tbody>\n",
       "</table>\n",
       "</div>"
      ],
      "text/plain": [
       "                Model           MSE       MAE  R2_Score      RMSE  RMSLE\n",
       "0  XGradient Boosting  1.649818e+07  2426.163     0.968  4061.795  8.309"
      ]
     },
     "execution_count": 111,
     "metadata": {},
     "output_type": "execute_result"
    }
   ],
   "source": [
    "Results_XGradientBoostingReg = pd.DataFrame([['XGradient Boosting', MSE , MAE, R2_Score , RMSE, RMSLE]],\n",
    "               columns = ['Model', 'MSE', 'MAE', 'R2_Score' , 'RMSE', 'RMSLE'])\n",
    "Results_XGradientBoostingReg"
   ]
  },
  {
   "cell_type": "markdown",
   "id": "cabac511",
   "metadata": {},
   "source": [
    "**AdaBoost Regressor**"
   ]
  },
  {
   "cell_type": "code",
   "execution_count": 112,
   "id": "73081589",
   "metadata": {},
   "outputs": [],
   "source": [
    "from sklearn.ensemble import AdaBoostRegressor"
   ]
  },
  {
   "cell_type": "code",
   "execution_count": 113,
   "id": "a931c939",
   "metadata": {},
   "outputs": [
    {
     "data": {
      "text/plain": [
       "AdaBoostRegressor()"
      ]
     },
     "execution_count": 113,
     "metadata": {},
     "output_type": "execute_result"
    }
   ],
   "source": [
    "AdaBoost_reg = AdaBoostRegressor()\n",
    "AdaBoost_reg.fit(X_train_transformed, y_train)"
   ]
  },
  {
   "cell_type": "code",
   "execution_count": 114,
   "id": "7615190f",
   "metadata": {},
   "outputs": [
    {
     "data": {
      "text/plain": [
       "array([29727.79027713,  7459.4272846 ,  7459.4272846 , ...,\n",
       "        7459.4272846 ,  7459.4272846 ,  7459.4272846 ])"
      ]
     },
     "execution_count": 114,
     "metadata": {},
     "output_type": "execute_result"
    }
   ],
   "source": [
    "y_pred =AdaBoost_reg.predict(X_test_transformed)\n",
    "y_pred"
   ]
  },
  {
   "cell_type": "code",
   "execution_count": 115,
   "id": "14edd3c2",
   "metadata": {},
   "outputs": [
    {
     "name": "stdout",
     "output_type": "stream",
     "text": [
      "Mean_Squared_Error(MSE):  41297292.185\n",
      "Mean_Absolute_Error(MEA): 4372.596\n",
      "R2_Score: 0.92\n",
      "RMSE: 6426.297\n",
      "Root_Mean_Squared_Log_Error(RMSLE): 8.768\n"
     ]
    }
   ],
   "source": [
    "from sklearn import metrics\n",
    "from sklearn.metrics import mean_squared_error, r2_score\n",
    "\n",
    "# MSE (Mean Squared Error):\n",
    "print(\"Mean_Squared_Error(MSE): \" , round(mean_squared_error(y_test, y_pred),3))\n",
    "\n",
    "# Mean_Absolute_Error (MAE)\n",
    "print('Mean_Absolute_Error(MEA):', round(metrics.mean_absolute_error(y_test, y_pred),3))  \n",
    "\n",
    "# R2_score \n",
    "print('R2_Score:', round(metrics.r2_score(y_test, y_pred),3))\n",
    "\n",
    "#R_squared = r2_score(y_test, y_pred)\n",
    "#print(R_squared)\n",
    "\n",
    "# RMSE (Root Mean Squared Error):\n",
    "RMSE = round(np.sqrt(mean_squared_error(y_test, y_pred)),3)\n",
    "print('RMSE:', RMSE)\n",
    "\n",
    "# Root_ Mean_Squared_Log_Error(RMSLE)\n",
    "print('Root_Mean_Squared_Log_Error(RMSLE):', round(np.log(np.sqrt(metrics.mean_squared_error(y_test, y_pred))),3))"
   ]
  },
  {
   "cell_type": "code",
   "execution_count": 116,
   "id": "f4bd3c0a",
   "metadata": {},
   "outputs": [],
   "source": [
    "MSE= round(mean_squared_error(y_test, y_pred),3)\n",
    "MAE= round(metrics.mean_absolute_error(y_test, y_pred),3)\n",
    "R2_Score= round(metrics.r2_score(y_test, y_pred),3)\n",
    "RMSE= round(np.sqrt(mean_squared_error(y_test, y_pred)),3)\n",
    "RMSLE= round(np.log(np.sqrt(metrics.mean_squared_error(y_test, y_pred))),3)"
   ]
  },
  {
   "cell_type": "code",
   "execution_count": 117,
   "id": "e4482805",
   "metadata": {},
   "outputs": [
    {
     "data": {
      "text/html": [
       "<div>\n",
       "<style scoped>\n",
       "    .dataframe tbody tr th:only-of-type {\n",
       "        vertical-align: middle;\n",
       "    }\n",
       "\n",
       "    .dataframe tbody tr th {\n",
       "        vertical-align: top;\n",
       "    }\n",
       "\n",
       "    .dataframe thead th {\n",
       "        text-align: right;\n",
       "    }\n",
       "</style>\n",
       "<table border=\"1\" class=\"dataframe\">\n",
       "  <thead>\n",
       "    <tr style=\"text-align: right;\">\n",
       "      <th></th>\n",
       "      <th>Model</th>\n",
       "      <th>MSE</th>\n",
       "      <th>MAE</th>\n",
       "      <th>R2_Score</th>\n",
       "      <th>RMSE</th>\n",
       "      <th>RMSLE</th>\n",
       "    </tr>\n",
       "  </thead>\n",
       "  <tbody>\n",
       "    <tr>\n",
       "      <th>0</th>\n",
       "      <td>Ada Boosting</td>\n",
       "      <td>4.129729e+07</td>\n",
       "      <td>4372.596</td>\n",
       "      <td>0.92</td>\n",
       "      <td>6426.297</td>\n",
       "      <td>8.768</td>\n",
       "    </tr>\n",
       "  </tbody>\n",
       "</table>\n",
       "</div>"
      ],
      "text/plain": [
       "          Model           MSE       MAE  R2_Score      RMSE  RMSLE\n",
       "0  Ada Boosting  4.129729e+07  4372.596      0.92  6426.297  8.768"
      ]
     },
     "execution_count": 117,
     "metadata": {},
     "output_type": "execute_result"
    }
   ],
   "source": [
    "Results_AdaBoostReg = pd.DataFrame([['Ada Boosting', MSE , MAE, R2_Score , RMSE, RMSLE]],\n",
    "               columns = ['Model', 'MSE', 'MAE', 'R2_Score' , 'RMSE', 'RMSLE'])\n",
    "Results_AdaBoostReg"
   ]
  },
  {
   "cell_type": "markdown",
   "id": "10cdf773",
   "metadata": {},
   "source": [
    "**Voting**"
   ]
  },
  {
   "cell_type": "code",
   "execution_count": 118,
   "id": "35a93a2c",
   "metadata": {},
   "outputs": [],
   "source": [
    " from sklearn.ensemble import VotingRegressor"
   ]
  },
  {
   "cell_type": "code",
   "execution_count": 119,
   "id": "32de4788",
   "metadata": {},
   "outputs": [],
   "source": [
    "#use ensemble Voting Regressor:\n",
    "\n",
    "lin_reg = LinearRegression()\n",
    "rnd = RandomForestRegressor(n_estimators=10, random_state=1)\n",
    "knn = KNeighborsRegressor()\n",
    "\n",
    "voting_reg = VotingRegressor([('lr', lin_reg), ('rf', rnd), ('r3', knn)])"
   ]
  },
  {
   "cell_type": "code",
   "execution_count": 120,
   "id": "d3beaa6b",
   "metadata": {
    "scrolled": false
   },
   "outputs": [
    {
     "data": {
      "text/plain": [
       "VotingRegressor(estimators=[('lr', LinearRegression()),\n",
       "                            ('rf',\n",
       "                             RandomForestRegressor(n_estimators=10,\n",
       "                                                   random_state=1)),\n",
       "                            ('r3', KNeighborsRegressor())])"
      ]
     },
     "execution_count": 120,
     "metadata": {},
     "output_type": "execute_result"
    }
   ],
   "source": [
    "voting_reg.fit(X_train_transformed, y_train)"
   ]
  },
  {
   "cell_type": "code",
   "execution_count": 121,
   "id": "d5ff2eb6",
   "metadata": {},
   "outputs": [
    {
     "data": {
      "text/plain": [
       "array([39931.83921709, 13275.60110991,  6438.02304582, ...,\n",
       "        4708.92407733,  5560.01704479,  7226.53441135])"
      ]
     },
     "execution_count": 121,
     "metadata": {},
     "output_type": "execute_result"
    }
   ],
   "source": [
    "y_pred =voting_reg.predict(X_test_transformed)\n",
    "y_pred"
   ]
  },
  {
   "cell_type": "code",
   "execution_count": 122,
   "id": "cae1ea88",
   "metadata": {},
   "outputs": [
    {
     "name": "stdout",
     "output_type": "stream",
     "text": [
      "Mean_Squared_Error(MSE):  31334417.378\n",
      "Mean_Absolute_Error(MEA): 3589.69\n",
      "R2_Score: 0.939\n",
      "RMSE: 5597.715\n",
      "Root_Mean_Squared_Log_Error(RMSLE): 8.63\n"
     ]
    }
   ],
   "source": [
    "from sklearn import metrics\n",
    "from sklearn.metrics import mean_squared_error, r2_score\n",
    "\n",
    "# MSE (Mean Squared Error):\n",
    "print(\"Mean_Squared_Error(MSE): \" , round(mean_squared_error(y_test, y_pred),3))\n",
    "\n",
    "# Mean_Absolute_Error (MAE)\n",
    "print('Mean_Absolute_Error(MEA):', round(metrics.mean_absolute_error(y_test, y_pred),3))  \n",
    "\n",
    "# R2_score \n",
    "print('R2_Score:', round(metrics.r2_score(y_test, y_pred),3))\n",
    "\n",
    "#R_squared = r2_score(y_test, y_pred)\n",
    "#print(R_squared)\n",
    "\n",
    "# RMSE (Root Mean Squared Error):\n",
    "RMSE = round(np.sqrt(mean_squared_error(y_test, y_pred)),3)\n",
    "print('RMSE:', RMSE)\n",
    "\n",
    "# Root_ Mean_Squared_Log_Error(RMSLE)\n",
    "print('Root_Mean_Squared_Log_Error(RMSLE):', round(np.log(np.sqrt(metrics.mean_squared_error(y_test, y_pred))),3))"
   ]
  },
  {
   "cell_type": "code",
   "execution_count": 123,
   "id": "85b677cf",
   "metadata": {},
   "outputs": [],
   "source": [
    "MSE= round(mean_squared_error(y_test, y_pred),3)\n",
    "MAE= round(metrics.mean_absolute_error(y_test, y_pred),3)\n",
    "R2_Score= round(metrics.r2_score(y_test, y_pred),3)\n",
    "RMSE= round(np.sqrt(mean_squared_error(y_test, y_pred)),3)\n",
    "RMSLE= round(np.log(np.sqrt(metrics.mean_squared_error(y_test, y_pred))),3)"
   ]
  },
  {
   "cell_type": "code",
   "execution_count": 124,
   "id": "122e4d86",
   "metadata": {},
   "outputs": [
    {
     "data": {
      "text/html": [
       "<div>\n",
       "<style scoped>\n",
       "    .dataframe tbody tr th:only-of-type {\n",
       "        vertical-align: middle;\n",
       "    }\n",
       "\n",
       "    .dataframe tbody tr th {\n",
       "        vertical-align: top;\n",
       "    }\n",
       "\n",
       "    .dataframe thead th {\n",
       "        text-align: right;\n",
       "    }\n",
       "</style>\n",
       "<table border=\"1\" class=\"dataframe\">\n",
       "  <thead>\n",
       "    <tr style=\"text-align: right;\">\n",
       "      <th></th>\n",
       "      <th>Model</th>\n",
       "      <th>MSE</th>\n",
       "      <th>MAE</th>\n",
       "      <th>R2_Score</th>\n",
       "      <th>RMSE</th>\n",
       "      <th>RMSLE</th>\n",
       "    </tr>\n",
       "  </thead>\n",
       "  <tbody>\n",
       "    <tr>\n",
       "      <th>0</th>\n",
       "      <td>voting</td>\n",
       "      <td>3.133442e+07</td>\n",
       "      <td>3589.69</td>\n",
       "      <td>0.939</td>\n",
       "      <td>5597.715</td>\n",
       "      <td>8.63</td>\n",
       "    </tr>\n",
       "  </tbody>\n",
       "</table>\n",
       "</div>"
      ],
      "text/plain": [
       "    Model           MSE      MAE  R2_Score      RMSE  RMSLE\n",
       "0  voting  3.133442e+07  3589.69     0.939  5597.715   8.63"
      ]
     },
     "execution_count": 124,
     "metadata": {},
     "output_type": "execute_result"
    }
   ],
   "source": [
    "Results_voting_reg = pd.DataFrame([['voting', MSE , MAE, R2_Score , RMSE, RMSLE]],\n",
    "               columns = ['Model', 'MSE', 'MAE', 'R2_Score' , 'RMSE', 'RMSLE'])\n",
    "Results_voting_reg"
   ]
  },
  {
   "cell_type": "code",
   "execution_count": null,
   "id": "68ad772d",
   "metadata": {},
   "outputs": [],
   "source": []
  },
  {
   "cell_type": "code",
   "execution_count": 125,
   "id": "d05b913b",
   "metadata": {},
   "outputs": [
    {
     "data": {
      "text/html": [
       "<div>\n",
       "<style scoped>\n",
       "    .dataframe tbody tr th:only-of-type {\n",
       "        vertical-align: middle;\n",
       "    }\n",
       "\n",
       "    .dataframe tbody tr th {\n",
       "        vertical-align: top;\n",
       "    }\n",
       "\n",
       "    .dataframe thead th {\n",
       "        text-align: right;\n",
       "    }\n",
       "</style>\n",
       "<table border=\"1\" class=\"dataframe\">\n",
       "  <thead>\n",
       "    <tr style=\"text-align: right;\">\n",
       "      <th></th>\n",
       "      <th>Model</th>\n",
       "      <th>MSE</th>\n",
       "      <th>MAE</th>\n",
       "      <th>R2_Score</th>\n",
       "      <th>RMSE</th>\n",
       "      <th>RMSLE</th>\n",
       "    </tr>\n",
       "  </thead>\n",
       "  <tbody>\n",
       "    <tr>\n",
       "      <th>0</th>\n",
       "      <td>Linear_Reg</td>\n",
       "      <td>4.344349e+07</td>\n",
       "      <td>4419.435</td>\n",
       "      <td>0.915</td>\n",
       "      <td>6591.168</td>\n",
       "      <td>8.793</td>\n",
       "    </tr>\n",
       "    <tr>\n",
       "      <th>0</th>\n",
       "      <td>Decision Tree</td>\n",
       "      <td>1.012974e+07</td>\n",
       "      <td>1083.511</td>\n",
       "      <td>0.980</td>\n",
       "      <td>3182.725</td>\n",
       "      <td>8.065</td>\n",
       "    </tr>\n",
       "    <tr>\n",
       "      <th>0</th>\n",
       "      <td>KNN</td>\n",
       "      <td>1.358640e+08</td>\n",
       "      <td>7265.793</td>\n",
       "      <td>0.735</td>\n",
       "      <td>11656.072</td>\n",
       "      <td>9.364</td>\n",
       "    </tr>\n",
       "    <tr>\n",
       "      <th>0</th>\n",
       "      <td>SGD</td>\n",
       "      <td>4.369185e+07</td>\n",
       "      <td>4452.870</td>\n",
       "      <td>0.915</td>\n",
       "      <td>6609.981</td>\n",
       "      <td>8.796</td>\n",
       "    </tr>\n",
       "    <tr>\n",
       "      <th>0</th>\n",
       "      <td>Ridge</td>\n",
       "      <td>4.350728e+07</td>\n",
       "      <td>4427.030</td>\n",
       "      <td>0.915</td>\n",
       "      <td>6596.005</td>\n",
       "      <td>8.794</td>\n",
       "    </tr>\n",
       "    <tr>\n",
       "      <th>0</th>\n",
       "      <td>Lasso</td>\n",
       "      <td>4.371876e+07</td>\n",
       "      <td>4399.206</td>\n",
       "      <td>0.915</td>\n",
       "      <td>6612.016</td>\n",
       "      <td>8.797</td>\n",
       "    </tr>\n",
       "    <tr>\n",
       "      <th>0</th>\n",
       "      <td>ElasticNet</td>\n",
       "      <td>2.709845e+08</td>\n",
       "      <td>13881.755</td>\n",
       "      <td>0.472</td>\n",
       "      <td>16461.607</td>\n",
       "      <td>9.709</td>\n",
       "    </tr>\n",
       "    <tr>\n",
       "      <th>0</th>\n",
       "      <td>SVM</td>\n",
       "      <td>1.158633e+08</td>\n",
       "      <td>6968.338</td>\n",
       "      <td>0.774</td>\n",
       "      <td>10763.980</td>\n",
       "      <td>9.284</td>\n",
       "    </tr>\n",
       "    <tr>\n",
       "      <th>0</th>\n",
       "      <td>Random Forest</td>\n",
       "      <td>3.236407e+07</td>\n",
       "      <td>3775.911</td>\n",
       "      <td>0.937</td>\n",
       "      <td>5688.942</td>\n",
       "      <td>8.646</td>\n",
       "    </tr>\n",
       "    <tr>\n",
       "      <th>0</th>\n",
       "      <td>Extra Trees</td>\n",
       "      <td>3.193711e+07</td>\n",
       "      <td>3738.396</td>\n",
       "      <td>0.938</td>\n",
       "      <td>5651.293</td>\n",
       "      <td>8.640</td>\n",
       "    </tr>\n",
       "    <tr>\n",
       "      <th>0</th>\n",
       "      <td>Gradient Boosting</td>\n",
       "      <td>2.802282e+07</td>\n",
       "      <td>3293.330</td>\n",
       "      <td>0.945</td>\n",
       "      <td>5293.659</td>\n",
       "      <td>8.574</td>\n",
       "    </tr>\n",
       "    <tr>\n",
       "      <th>0</th>\n",
       "      <td>XGradient Boosting</td>\n",
       "      <td>1.649818e+07</td>\n",
       "      <td>2426.163</td>\n",
       "      <td>0.968</td>\n",
       "      <td>4061.795</td>\n",
       "      <td>8.309</td>\n",
       "    </tr>\n",
       "    <tr>\n",
       "      <th>0</th>\n",
       "      <td>Ada Boosting</td>\n",
       "      <td>4.129729e+07</td>\n",
       "      <td>4372.596</td>\n",
       "      <td>0.920</td>\n",
       "      <td>6426.297</td>\n",
       "      <td>8.768</td>\n",
       "    </tr>\n",
       "    <tr>\n",
       "      <th>0</th>\n",
       "      <td>voting</td>\n",
       "      <td>3.133442e+07</td>\n",
       "      <td>3589.690</td>\n",
       "      <td>0.939</td>\n",
       "      <td>5597.715</td>\n",
       "      <td>8.630</td>\n",
       "    </tr>\n",
       "  </tbody>\n",
       "</table>\n",
       "</div>"
      ],
      "text/plain": [
       "                Model           MSE        MAE  R2_Score       RMSE  RMSLE\n",
       "0          Linear_Reg  4.344349e+07   4419.435     0.915   6591.168  8.793\n",
       "0       Decision Tree  1.012974e+07   1083.511     0.980   3182.725  8.065\n",
       "0                 KNN  1.358640e+08   7265.793     0.735  11656.072  9.364\n",
       "0                 SGD  4.369185e+07   4452.870     0.915   6609.981  8.796\n",
       "0               Ridge  4.350728e+07   4427.030     0.915   6596.005  8.794\n",
       "0               Lasso  4.371876e+07   4399.206     0.915   6612.016  8.797\n",
       "0          ElasticNet  2.709845e+08  13881.755     0.472  16461.607  9.709\n",
       "0                 SVM  1.158633e+08   6968.338     0.774  10763.980  9.284\n",
       "0       Random Forest  3.236407e+07   3775.911     0.937   5688.942  8.646\n",
       "0         Extra Trees  3.193711e+07   3738.396     0.938   5651.293  8.640\n",
       "0   Gradient Boosting  2.802282e+07   3293.330     0.945   5293.659  8.574\n",
       "0  XGradient Boosting  1.649818e+07   2426.163     0.968   4061.795  8.309\n",
       "0        Ada Boosting  4.129729e+07   4372.596     0.920   6426.297  8.768\n",
       "0              voting  3.133442e+07   3589.690     0.939   5597.715  8.630"
      ]
     },
     "execution_count": 125,
     "metadata": {},
     "output_type": "execute_result"
    }
   ],
   "source": [
    "Result=pd.concat([Results_LinearRegression, Results_DecisionTree, Results_KNN, Results_SGD, Results_Ridge, Results_Lasso, Results_ElasticNet, Results_svm_reg, Results_RandomForestReg, Results_ExtraTreesReg, Results_GradientBoostingReg, Results_XGradientBoostingReg, Results_AdaBoostReg,Results_voting_reg])\n",
    "Result.set_index('Model')\n",
    "Result"
   ]
  },
  {
   "cell_type": "code",
   "execution_count": 126,
   "id": "531f648c",
   "metadata": {},
   "outputs": [
    {
     "data": {
      "image/png": "[encoded data removed]",
      "text/plain": [
       "<Figure size 1728x432 with 1 Axes>"
      ]
     },
     "metadata": {
      "needs_background": "light"
     },
     "output_type": "display_data"
    }
   ],
   "source": [
    "# Performance Bar Plot:\n",
    "\n",
    "Result.plot(kind=\"bar\", x = 'Model', y = ['R2_Score'],  rot=0, figsize=(24, 6), colormap='summer', alpha=0.5);\n",
    "plt.show()"
   ]
  },
  {
   "cell_type": "code",
   "execution_count": 127,
   "id": "bf6fcbaf",
   "metadata": {},
   "outputs": [
    {
     "data": {
      "image/png": "[encoded data removed]",
      "text/plain": [
       "<Figure size 1728x864 with 5 Axes>"
      ]
     },
     "metadata": {
      "needs_background": "light"
     },
     "output_type": "display_data"
    }
   ],
   "source": [
    "#plotting evaluation metrics in bar chart:\n",
    "\n",
    "plt.figure(figsize=(24,12))\n",
    "plt.suptitle(\"Metrics Score Analysis\",fontsize=24)\n",
    "plt.subplots_adjust(wspace = 0.4, hspace= 0.4)\n",
    "\n",
    "\n",
    "tuple_list = [(1,'MSE'),(2,'MAE'),(3,'R2_Score'),(4,'RMSE'),(5,'RMSLE')]\n",
    "for i, j in tuple_list:\n",
    "    plt.subplot(2,3,i)\n",
    "    plt.title(j.upper())\n",
    "    sns.barplot(x = Result[j] * 100,\n",
    "            y = 'Model',\n",
    "            data = Result,\n",
    "            palette = \"winter\",\n",
    "            orient = 'h')"
   ]
  },
  {
   "cell_type": "code",
   "execution_count": null,
   "id": "ceabd548",
   "metadata": {},
   "outputs": [],
   "source": []
  },
  {
   "cell_type": "markdown",
   "id": "02a2f616",
   "metadata": {},
   "source": [
    "**Feature Analysis**"
   ]
  },
  {
   "cell_type": "code",
   "execution_count": null,
   "id": "710310c5",
   "metadata": {},
   "outputs": [],
   "source": []
  }
 ],
 "metadata": {
  "kernelspec": {
   "display_name": "Python 3",
   "language": "python",
   "name": "python3"
  },
  "language_info": {
   "codemirror_mode": {
    "name": "ipython",
    "version": 3
   },
   "file_extension": ".py",
   "mimetype": "text/x-python",
   "name": "python",
   "nbconvert_exporter": "python",
   "pygments_lexer": "ipython3",
   "version": "3.8.8"
  }
 },
 "nbformat": 4,
 "nbformat_minor": 5
}
